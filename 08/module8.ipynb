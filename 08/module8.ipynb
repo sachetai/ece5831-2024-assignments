{
  "nbformat": 4,
  "nbformat_minor": 0,
  "metadata": {
    "colab": {
      "provenance": []
    },
    "kernelspec": {
      "name": "python3",
      "display_name": "Python 3"
    },
    "language_info": {
      "name": "python"
    }
  },
  "cells": [
    {
      "cell_type": "markdown",
      "source": [
        "##**Steps in the Code:**\n",
        "\n",
        "1. Define the LeNet class: Implements the CNN architecture.\n",
        "2. Train and save the model: Use MNIST dataset.\n",
        "3. Load the saved model: Load the trained model from the saved file.\n",
        "4. Test the model: Use hand-written digit images for predictions.\n",
        "\n"
      ],
      "metadata": {
        "id": "U2wPsEqlvjtv"
      }
    },
    {
      "cell_type": "markdown",
      "source": [
        "##**Import required libraries -**"
      ],
      "metadata": {
        "id": "A80k_jNrvzCJ"
      }
    },
    {
      "cell_type": "code",
      "execution_count": null,
      "metadata": {
        "id": "DnPWLOqivh-M"
      },
      "outputs": [],
      "source": [
        "import tensorflow as tf\n",
        "from tensorflow.keras import layers, models\n",
        "from tensorflow.keras.datasets import mnist\n",
        "import numpy as np\n",
        "import matplotlib.pyplot as plt\n",
        "from PIL import Image\n",
        "import os"
      ]
    },
    {
      "cell_type": "markdown",
      "source": [
        "##**Define the LeNet class -**"
      ],
      "metadata": {
        "id": "SnwSVNg6v5nS"
      }
    },
    {
      "cell_type": "code",
      "source": [
        "class LeNet:\n",
        "    def __init__(self):\n",
        "      \"\"\"\n",
        "        Initializes the LeNet CNN architecture with layers for image classification.\n",
        "      \"\"\"\n",
        "        self.model = models.Sequential([\n",
        "            layers.Conv2D(6, kernel_size=(5, 5), activation='relu', input_shape=(28, 28, 1)),\n",
        "            layers.AveragePooling2D(pool_size=(2, 2)),\n",
        "            layers.Conv2D(16, kernel_size=(5, 5), activation='relu'),\n",
        "            layers.AveragePooling2D(pool_size=(2, 2)),\n",
        "            layers.Flatten(),\n",
        "            layers.Dense(120, activation='relu'),\n",
        "            layers.Dense(84, activation='relu'),\n",
        "            layers.Dense(10, activation='softmax')\n",
        "        ])\n",
        "        self.model.compile(optimizer='adam', loss='sparse_categorical_crossentropy', metrics=['accuracy'])\n",
        "\n",
        "    def train(self, x_train, y_train, x_test, y_test, epochs=5):\n",
        "      \"\"\"\n",
        "        Trains the model on the provided dataset.\n",
        "        Args:\n",
        "            x_train (numpy.ndarray): Training data.\n",
        "            y_train (numpy.ndarray): Labels for the training data.\n",
        "            x_test (numpy.ndarray): Test data.\n",
        "            y_test (numpy.ndarray): Labels for the test data.\n",
        "            epochs (int): Number of training epochs.\n",
        "        Returns:\n",
        "            tensorflow.keras.Model: The trained model.\n",
        "      \"\"\"\n",
        "        self.model.fit(x_train, y_train, validation_data=(x_test, y_test), epochs=epochs)\n",
        "        return self.model\n",
        "\n",
        "    def save(self, path='utekar_cnn_model.keras'):\n",
        "      \"\"\"\n",
        "        Saves the trained model to the specified path.\n",
        "        Args:\n",
        "            path (str): File path to save the model.\n",
        "      \"\"\"\n",
        "        self.model.save(path)\n",
        "\n",
        "    @staticmethod\n",
        "    def load(path='utekar_cnn_model.keras'):\n",
        "      \"\"\"\n",
        "        Loads a saved model from the specified path.\n",
        "        Args:\n",
        "            path (str): File path of the saved model.\n",
        "        Returns:\n",
        "            tensorflow.keras.Model: The loaded model.\n",
        "      \"\"\"\n",
        "        return tf.keras.models.load_model(path)"
      ],
      "metadata": {
        "id": "yy7NSounv5vl"
      },
      "execution_count": null,
      "outputs": []
    },
    {
      "cell_type": "markdown",
      "source": [
        "##**Load and preprocess the MNIST dataset -**"
      ],
      "metadata": {
        "id": "bi8bs3ndv52V"
      }
    },
    {
      "cell_type": "code",
      "source": [
        "(x_train, y_train), (x_test, y_test) = mnist.load_data()\n",
        "x_train = x_train.reshape(-1, 28, 28, 1).astype(\"float32\") / 255.0\n",
        "x_test = x_test.reshape(-1, 28, 28, 1).astype(\"float32\") / 255.0"
      ],
      "metadata": {
        "id": "XO9n3fF_v5-K"
      },
      "execution_count": null,
      "outputs": []
    },
    {
      "cell_type": "markdown",
      "source": [
        "##**Train, Save, Load & Test the model handwritten digit images -**"
      ],
      "metadata": {
        "id": "FfNyaPagv6FL"
      }
    },
    {
      "cell_type": "code",
      "source": [
        "lenet = LeNet()\n",
        "lenet.train(x_train, y_train, x_test, y_test, epochs=5)\n",
        "lenet.save()\n",
        "\n",
        "loaded_model = LeNet.load()\n",
        "\n",
        "def load_image(image_path):\n",
        "    \"\"\"Loads and preprocesses an image.\"\"\"\n",
        "    image = Image.open(image_path).convert('L')  # Convert to grayscale\n",
        "    image = image.resize((28, 28))  # Resize to match MNIST images\n",
        "    image = np.array(image).astype(\"float32\") / 255.0\n",
        "    image = np.expand_dims(image, axis=(0, -1))  # Add batch and channel dimensions\n",
        "    return image\n",
        "\n",
        "def test_model(image_path, actual_digit):\n",
        "    \"\"\"Tests the model with a single image.\"\"\"\n",
        "    image = load_image(image_path)\n",
        "    prediction = np.argmax(loaded_model.predict(image))\n",
        "    plt.imshow(image.squeeze(), cmap='gray')\n",
        "    plt.title(f\"Actual: {actual_digit}, Predicted: {prediction}\")\n",
        "    plt.axis(\"off\")\n",
        "    plt.show()\n",
        "    if prediction == actual_digit:\n",
        "        print(f\"Success: Model correctly predicted {prediction}.\")\n",
        "    else:\n",
        "        print(f\"Failure: Model predicted {prediction}, but actual digit is {actual_digit}.\")\n",
        "\n",
        "# Test handwritten digit images\n",
        "test_images_path = \"/content/handwritten_digits\"  # Update to your images folder\n",
        "for img_file in os.listdir(test_images_path):\n",
        "    if img_file.endswith('.png') or img_file.endswith('.jpg'):\n",
        "        actual_digit = int(img_file.split('_')[0])  # Assuming filenames like '3_image.png'\n",
        "        test_model(os.path.join(test_images_path, img_file), actual_digit)"
      ],
      "metadata": {
        "id": "Ltd04ZJLv6MO"
      },
      "execution_count": null,
      "outputs": []
    }
  ]
}