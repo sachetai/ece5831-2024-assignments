{
  "nbformat": 4,
  "nbformat_minor": 0,
  "metadata": {
    "colab": {
      "provenance": []
    },
    "kernelspec": {
      "name": "python3",
      "display_name": "Python 3"
    },
    "language_info": {
      "name": "python"
    }
  },
  "cells": [
    {
      "cell_type": "code",
      "execution_count": null,
      "metadata": {
        "id": "SQHxW9JTQcZG"
      },
      "outputs": [],
      "source": [
        "import numpy as np\n",
        "import tensorflow as tf\n",
        "import matplotlib.pyplot as plt\n",
        "import cv2\n",
        "from google.colab import files\n",
        "\n",
        "def load_labels(label_file):\n",
        "    \"\"\"Load class labels from a file.\"\"\"\n",
        "    with open(label_file, 'r') as f:\n",
        "        return f.read().splitlines()\n",
        "\n",
        "def classify_image(image_path, model, class_names):\n",
        "    \"\"\"Classify the given image and return the result.\"\"\"\n",
        "    img = cv2.imread(\"C://ECE5831/images/01.jpg\")\n",
        "    img_resized = cv2.resize(img, (224, 224))  # Model's input size\n",
        "    img_normalized = np.array(img_resized, dtype=np.float32) / 255.0  # Normalize image\n",
        "    img_expanded = np.expand_dims(img_normalized, axis=0)  # Add batch dimension\n",
        "\n",
        "    # Make prediction\n",
        "    predictions = model.predict(img_expanded)\n",
        "    class_idx = np.argmax(predictions)\n",
        "    confidence_score = predictions[0][class_idx]\n",
        "\n",
        "    # Display the image using matplotlib\n",
        "    plt.imshow(cv2.cvtColor(img, cv2.COLOR_BGR2RGB))\n",
        "    plt.title(f'Class: {class_names[class_idx]} \\n Confidence Score: {confidence_score:.4f}')\n",
        "    plt.axis('off')\n",
        "    plt.show()\n",
        "\n",
        "    return class_names[class_idx], confidence_score\n",
        "\n",
        "# Upload files for testing\n",
        "uploaded = files.upload()\n",
        "\n",
        "# Get image path and labels.txt from uploaded files\n",
        "image_path = None\n",
        "label_file = None\n",
        "for filename in uploaded.keys():\n",
        "    if filename.lower().endswith(('.jpg', '.jpeg', '.png')):\n",
        "        image_path = filename\n",
        "    elif filename == 'labels.txt':\n",
        "        label_file = filename\n",
        "\n",
        "if image_path is None or label_file is None:\n",
        "    print(\"Please upload both an image and the 'labels.txt' file.\")\n",
        "else:\n",
        "    # Load the trained model\n",
        "    model = tf.keras.models.load_model('keras_model.h5')  # Ensure 'keras_model.h5' is in your Colab environment\n",
        "\n",
        "    # Load class labels\n",
        "    class_names = load_labels(label_file)\n",
        "\n",
        "    # Classify the image\n",
        "    label, confidence = classify_image(image_path, model, class_names)\n",
        "    print(f'Class: {label}')\n",
        "    print(f'Confidence Score: {confidence:.4f}')\n"
      ]
    }
  ]
}