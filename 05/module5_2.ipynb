{
  "nbformat": 4,
  "nbformat_minor": 0,
  "metadata": {
    "colab": {
      "provenance": []
    },
    "kernelspec": {
      "name": "python3",
      "display_name": "Python 3"
    },
    "language_info": {
      "name": "python"
    }
  },
  "cells": [
    {
      "cell_type": "markdown",
      "source": [
        "##**Module 5: MNIST Data Handling and Softmax Implementation**\n",
        "\n",
        "In this notebook, we will implement and test the MnistData class, along with its supporting methods and functions like softmax. The notebook will demonstrate:\n",
        "\n",
        "1. Implementation of the `MnistData` class to load, download, and preprocess MNIST data.\n",
        "2. A new stable softmax function to avoid overflow errors.\n",
        "3. Verification of loaded images and labels.\n",
        "4. Example of a one-hot-encoded label.\n",
        "5. Testing the MnistData class with sample images from both the train and test datasets.\n"
      ],
      "metadata": {
        "id": "hbFV-K_DybMQ"
      }
    },
    {
      "cell_type": "markdown",
      "source": [
        "##**Step 1: Softmax Function Implementation**"
      ],
      "metadata": {
        "id": "pGEudSLFylY7"
      }
    },
    {
      "cell_type": "code",
      "execution_count": 1,
      "metadata": {
        "colab": {
          "base_uri": "https://localhost:8080/"
        },
        "id": "FHFNQ3ffyTqI",
        "outputId": "427b100b-92aa-44ec-a243-f799b28171b3"
      },
      "outputs": [
        {
          "output_type": "stream",
          "name": "stdout",
          "text": [
            "Standard softmax: [nan nan nan]\n",
            "Stable softmax: [0.09003057 0.24472847 0.66524096]\n"
          ]
        }
      ],
      "source": [
        "import numpy as np\n",
        "import warnings\n",
        "warnings.filterwarnings(\"ignore\")\n",
        "\n",
        "def softmax(x):\n",
        "    \"\"\"Standard softmax function.\"\"\"\n",
        "    exp_x = np.exp(x)\n",
        "    return exp_x / np.sum(exp_x, axis=0)\n",
        "\n",
        "def stable_softmax(x):\n",
        "    \"\"\"Softmax function to prevent overflow by subtracting the maximum value.\"\"\"\n",
        "    shift_x = x - np.max(x)\n",
        "    exp_shift_x = np.exp(shift_x)\n",
        "    return exp_shift_x / np.sum(exp_shift_x, axis=0)\n",
        "\n",
        "# Testing softmax functions with sample inputs\n",
        "scores = np.array([1000, 1001, 1002])\n",
        "\n",
        "print(\"Standard softmax:\", softmax(scores))\n",
        "print(\"Stable softmax:\", stable_softmax(scores))\n"
      ]
    },
    {
      "cell_type": "markdown",
      "source": [
        "##**Step 2: MnistData Class Implementation**"
      ],
      "metadata": {
        "id": "HwVwePJNypFz"
      }
    },
    {
      "cell_type": "code",
      "source": [
        "import os\n",
        "import gzip\n",
        "import urllib.request\n",
        "import pickle\n",
        "import matplotlib.pyplot as plt\n",
        "\n",
        "class MnistData:\n",
        "    def __init__(self):\n",
        "        self.dataset_url = 'http://yann.lecun.com/exdb/mnist/'\n",
        "        self.files = {\n",
        "            'train_images': 'train-images-idx3-ubyte.gz',\n",
        "            'train_labels': 'train-labels-idx1-ubyte.gz',\n",
        "            'test_images': 't10k-images-idx3-ubyte.gz',\n",
        "            'test_labels': 't10k-labels-idx1-ubyte.gz'\n",
        "        }\n",
        "        self.dataset = None\n",
        "\n",
        "    def _download(self, filename):\n",
        "        \"\"\"Download a single MNIST file.\"\"\"\n",
        "        print(f\"Downloading {filename}...\")\n",
        "        urllib.request.urlretrieve(self.dataset_url + filename, filename)\n",
        "\n",
        "    def _download_all(self):\n",
        "        \"\"\"Download all MNIST dataset files if they are not present.\"\"\"\n",
        "        for filename in self.files.values():\n",
        "            if not os.path.exists(filename):\n",
        "                self._download(filename)\n",
        "\n",
        "    def _load_images(self, filename):\n",
        "        \"\"\"Load image data from a gzipped file.\"\"\"\n",
        "        with gzip.open(filename, 'rb') as f:\n",
        "            data = np.frombuffer(f.read(), np.uint8, offset=16).reshape(-1, 784)\n",
        "        return data\n",
        "\n",
        "    def _load_labels(self, filename):\n",
        "        \"\"\"Load label data from a gzipped file.\"\"\"\n",
        "        with gzip.open(filename, 'rb') as f:\n",
        "            data = np.frombuffer(f.read(), np.uint8, offset=8)\n",
        "        return data\n",
        "\n",
        "    def _create_dataset(self):\n",
        "        \"\"\"Create the dataset by loading training and test images and labels.\"\"\"\n",
        "        train_images = self._load_images(self.files['train_images'])\n",
        "        train_labels = self._load_labels(self.files['train_labels'])\n",
        "        test_images = self._load_images(self.files['test_images'])\n",
        "        test_labels = self._load_labels(self.files['test_labels'])\n",
        "        self.dataset = {\n",
        "            'train': (train_images, self._change_one_hot_label(train_labels)),\n",
        "            'test': (test_images, self._change_one_hot_label(test_labels))\n",
        "        }\n",
        "        # Save to a pickle file\n",
        "        with open('mnist.pkl', 'wb') as f:\n",
        "            pickle.dump(self.dataset, f)\n",
        "\n",
        "    def _change_one_hot_label(self, labels, num_classes=10):\n",
        "        \"\"\"Convert labels to one-hot encoding.\"\"\"\n",
        "        one_hot = np.zeros((labels.size, num_classes))\n",
        "        for i, label in enumerate(labels):\n",
        "            one_hot[i, label] = 1\n",
        "        return one_hot\n",
        "\n",
        "    def load(self):\n",
        "        \"\"\"Load the dataset, downloading if necessary.\"\"\"\n",
        "        if not os.path.exists('mnist.pkl'):\n",
        "            self._download_all()\n",
        "            self._create_dataset()\n",
        "        else:\n",
        "            with open('mnist.pkl', 'rb') as f:\n",
        "                self.dataset = pickle.load(f)\n",
        "        return self.dataset['train'], self.dataset['test']\n",
        "\n",
        "    def display_image(self, dataset_type, index):\n",
        "        \"\"\"Display a single image from the dataset.\"\"\"\n",
        "        if self.dataset is None:\n",
        "            self.load()\n",
        "\n",
        "        images, labels = self.dataset[dataset_type]\n",
        "        image = images[index].reshape(28, 28)\n",
        "        label = np.argmax(labels[index])  # Use argmax to get the original label\n",
        "\n",
        "        plt.imshow(image, cmap='gray')\n",
        "        plt.title(f\"Label: {label}\")\n",
        "        plt.show()\n"
      ],
      "metadata": {
        "id": "-23CzQLYypOF"
      },
      "execution_count": 2,
      "outputs": []
    },
    {
      "cell_type": "markdown",
      "source": [
        "##**Step 3: Loading and Displaying the Dataset**"
      ],
      "metadata": {
        "id": "-nAcHkIzyx0E"
      }
    },
    {
      "cell_type": "code",
      "source": [
        "# Import necessary libraries\n",
        "import tensorflow as tf\n",
        "import matplotlib.pyplot as plt\n",
        "import numpy as np\n",
        "\n",
        "# Load MNIST dataset using TensorFlow/Keras\n",
        "(train_images, train_labels), (test_images, test_labels) = tf.keras.datasets.mnist.load_data()\n",
        "\n",
        "# Normalize the images to the range of [0, 1] by dividing by 255\n",
        "train_images, test_images = train_images / 255.0, test_images / 255.0\n",
        "\n",
        "print(\"Training images shape:\", train_images.shape)\n",
        "print(\"Training labels shape:\", train_labels.shape)\n",
        "print(\"Test images shape:\", test_images.shape)\n",
        "print(\"Test labels shape:\", test_labels.shape)\n"
      ],
      "metadata": {
        "colab": {
          "base_uri": "https://localhost:8080/"
        },
        "id": "1kNMvOyLyx-y",
        "outputId": "6d15e41a-297e-497b-ea80-b92bbf7f8462"
      },
      "execution_count": 3,
      "outputs": [
        {
          "output_type": "stream",
          "name": "stdout",
          "text": [
            "Training images shape: (60000, 28, 28)\n",
            "Training labels shape: (60000,)\n",
            "Test images shape: (10000, 28, 28)\n",
            "Test labels shape: (10000,)\n"
          ]
        }
      ]
    },
    {
      "cell_type": "markdown",
      "source": [
        "##**Step 4: Display Sample Images and Labels**"
      ],
      "metadata": {
        "id": "GPaaA3vjy35i"
      }
    },
    {
      "cell_type": "code",
      "source": [
        "# Display a sample training image\n",
        "plt.imshow(train_images[0], cmap='gray')\n",
        "plt.title(f\"Label: {train_labels[0]}\")\n",
        "plt.show()\n",
        "\n",
        "# Display a sample test image\n",
        "plt.imshow(test_images[0], cmap='gray')\n",
        "plt.title(f\"Label: {test_labels[0]}\")\n",
        "plt.show()\n"
      ],
      "metadata": {
        "colab": {
          "base_uri": "https://localhost:8080/",
          "height": 887
        },
        "id": "_L4sxnncy4Cb",
        "outputId": "18acbe32-5942-45c4-9fe2-63855e41d8fb"
      },
      "execution_count": 4,
      "outputs": [
        {
          "output_type": "display_data",
          "data": {
            "text/plain": [
              "<Figure size 640x480 with 1 Axes>"
            ],
            "image/png": "[encoded data removed]"
          },
          "metadata": {}
        },
        {
          "output_type": "display_data",
          "data": {
            "text/plain": [
              "<Figure size 640x480 with 1 Axes>"
            ],
            "image/png": "[encoded data removed]"
          },
          "metadata": {}
        }
      ]
    },
    {
      "cell_type": "markdown",
      "source": [
        "##**Step 5: Display One-Hot Encoded Label Example**"
      ],
      "metadata": {
        "id": "a0BmXgfPy4Kf"
      }
    },
    {
      "cell_type": "code",
      "source": [
        "# Convert the labels to one-hot encoding using TensorFlow/Keras utilities\n",
        "train_labels_one_hot = tf.keras.utils.to_categorical(train_labels, num_classes=10)\n",
        "test_labels_one_hot = tf.keras.utils.to_categorical(test_labels, num_classes=10)\n",
        "\n",
        "# Display one-hot-encoded label example for the first training image\n",
        "print(\"One-hot encoded label (train[0]):\", train_labels_one_hot[0])"
      ],
      "metadata": {
        "colab": {
          "base_uri": "https://localhost:8080/"
        },
        "id": "uQqb39syy4Sm",
        "outputId": "a3e9cce6-89be-4725-cf1f-2093563e9ea7"
      },
      "execution_count": 5,
      "outputs": [
        {
          "output_type": "stream",
          "name": "stdout",
          "text": [
            "One-hot encoded label (train[0]): [0. 0. 0. 0. 0. 1. 0. 0. 0. 0.]\n"
          ]
        }
      ]
    },
    {
      "cell_type": "markdown",
      "source": [
        "##**Step 6: Testing MnistData Class with Four Examples**"
      ],
      "metadata": {
        "id": "rq3ujAjTy_L3"
      }
    },
    {
      "cell_type": "code",
      "source": [
        "# Display two training and two test images along with their labels\n",
        "\n",
        "# First training image\n",
        "plt.imshow(train_images[0], cmap='gray')\n",
        "plt.title(f\"Label: {train_labels[0]}\")\n",
        "plt.show()\n",
        "\n",
        "# Second training image\n",
        "plt.imshow(train_images[5], cmap='gray')\n",
        "plt.title(f\"Label: {train_labels[5]}\")\n",
        "plt.show()\n",
        "\n",
        "# First test image\n",
        "plt.imshow(test_images[0], cmap='gray')\n",
        "plt.title(f\"Label: {test_labels[0]}\")\n",
        "plt.show()\n",
        "\n",
        "# Second test image\n",
        "plt.imshow(test_images[5], cmap='gray')\n",
        "plt.title(f\"Label: {test_labels[5]}\")\n",
        "plt.show()"
      ],
      "metadata": {
        "colab": {
          "base_uri": "https://localhost:8080/",
          "height": 1000
        },
        "id": "V-bZ8fwSy_UZ",
        "outputId": "152e7fb2-7bc3-40a8-d5cd-eb0622264f7f"
      },
      "execution_count": 6,
      "outputs": [
        {
          "output_type": "display_data",
          "data": {
            "text/plain": [
              "<Figure size 640x480 with 1 Axes>"
            ],
            "image/png": "[encoded data removed]"
          },
          "metadata": {}
        },
        {
          "output_type": "display_data",
          "data": {
            "text/plain": [
              "<Figure size 640x480 with 1 Axes>"
            ],
            "image/png": "[encoded data removed]"
          },
          "metadata": {}
        },
        {
          "output_type": "display_data",
          "data": {
            "text/plain": [
              "<Figure size 640x480 with 1 Axes>"
            ],
            "image/png": "[encoded data removed]"
          },
          "metadata": {}
        },
        {
          "output_type": "display_data",
          "data": {
            "text/plain": [
              "<Figure size 640x480 with 1 Axes>"
            ],
            "image/png": "[encoded data removed]"
          },
          "metadata": {}
        }
      ]
    },
    {
      "cell_type": "markdown",
      "source": [
        "##**Step 7: Softmax Function Testing**"
      ],
      "metadata": {
        "id": "TSTHvVWczGRG"
      }
    },
    {
      "cell_type": "code",
      "source": [
        "# Softmax and Stable Softmax function\n",
        "def softmax(x):\n",
        "    \"\"\"Standard softmax function.\"\"\"\n",
        "    exp_x = np.exp(x)\n",
        "    return exp_x / np.sum(exp_x, axis=0)\n",
        "\n",
        "def stable_softmax(x):\n",
        "    \"\"\"Softmax function to prevent overflow by subtracting the maximum value.\"\"\"\n",
        "    shift_x = x - np.max(x)\n",
        "    exp_shift_x = np.exp(shift_x)\n",
        "    return exp_shift_x / np.sum(exp_shift_x, axis=0)\n",
        "\n",
        "# Test softmax and stable softmax with a sample array\n",
        "scores = np.array([1000, 1001, 1002])\n",
        "\n",
        "print(\"Softmax result:\", softmax(scores))\n",
        "print(\"Stable softmax result:\", stable_softmax(scores))"
      ],
      "metadata": {
        "colab": {
          "base_uri": "https://localhost:8080/"
        },
        "id": "O5RAtvLnzGYf",
        "outputId": "0c05dfe2-c869-4fcd-a3ba-ff88a930fcab"
      },
      "execution_count": 7,
      "outputs": [
        {
          "output_type": "stream",
          "name": "stdout",
          "text": [
            "Softmax result: [nan nan nan]\n",
            "Stable softmax result: [0.09003057 0.24472847 0.66524096]\n"
          ]
        }
      ]
    }
  ]
}