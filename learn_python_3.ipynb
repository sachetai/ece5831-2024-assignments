{
  "nbformat": 4,
  "nbformat_minor": 0,
  "metadata": {
    "colab": {
      "provenance": []
    },
    "kernelspec": {
      "name": "python3",
      "display_name": "Python 3"
    },
    "language_info": {
      "name": "python"
    }
  },
  "cells": [
    {
      "cell_type": "markdown",
      "source": [
        "##**Generators -**"
      ],
      "metadata": {
        "id": "sHsuuB6HdDiD"
      }
    },
    {
      "cell_type": "code",
      "execution_count": 19,
      "metadata": {
        "colab": {
          "base_uri": "https://localhost:8080/"
        },
        "id": "wHZHzWuGW-dx",
        "outputId": "1e85a38d-826a-468b-8a71-e473d6e4f5c4"
      },
      "outputs": [
        {
          "output_type": "stream",
          "name": "stdout",
          "text": [
            "And the next number is... 38!\n",
            "And the next number is... 34!\n",
            "And the next number is... 34!\n",
            "And the next number is... 24!\n",
            "And the next number is... 22!\n",
            "And the next number is... 4!\n",
            "And the next number is... 13!\n"
          ]
        }
      ],
      "source": [
        "import random\n",
        "\n",
        "def lottery():\n",
        "    # returns 6 numbers between 1 and 40\n",
        "    for i in range(6):\n",
        "        yield random.randint(1, 40)\n",
        "\n",
        "    # returns a 7th number between 1 and 15\n",
        "    yield random.randint(1, 15)\n",
        "\n",
        "for random_number in lottery():\n",
        "       print(\"And the next number is... %d!\" %(random_number))"
      ]
    },
    {
      "cell_type": "code",
      "source": [
        "a = 1\n",
        "b = 2\n",
        "a, b = b, a\n",
        "print(a, b)"
      ],
      "metadata": {
        "colab": {
          "base_uri": "https://localhost:8080/"
        },
        "id": "0-1vvGsdXH_r",
        "outputId": "2b84e13f-112e-4a2f-a6cd-3a017d351fe0"
      },
      "execution_count": 20,
      "outputs": [
        {
          "output_type": "stream",
          "name": "stdout",
          "text": [
            "2 1\n"
          ]
        }
      ]
    },
    {
      "cell_type": "code",
      "source": [
        "# fill in this function\n",
        "def fib():\n",
        "    a, b = 1, 1\n",
        "    while 1:\n",
        "        yield a\n",
        "        a, b = b, a + b\n",
        "\n",
        "# testing code\n",
        "import types\n",
        "if type(fib()) == types.GeneratorType:\n",
        "    print(\"Good, The fib function is a generator.\")\n",
        "\n",
        "    counter = 0\n",
        "    for n in fib():\n",
        "        print(n)\n",
        "        counter += 1\n",
        "        if counter == 10:\n",
        "            break"
      ],
      "metadata": {
        "colab": {
          "base_uri": "https://localhost:8080/"
        },
        "id": "Du5QQBduXICc",
        "outputId": "e9e45652-743d-489a-c39e-1f134870f915"
      },
      "execution_count": 21,
      "outputs": [
        {
          "output_type": "stream",
          "name": "stdout",
          "text": [
            "Good, The fib function is a generator.\n",
            "1\n",
            "1\n",
            "2\n",
            "3\n",
            "5\n",
            "8\n",
            "13\n",
            "21\n",
            "34\n",
            "55\n"
          ]
        }
      ]
    },
    {
      "cell_type": "markdown",
      "source": [
        "##**List Comprehensions -**"
      ],
      "metadata": {
        "id": "7SO7cG0TdR66"
      }
    },
    {
      "cell_type": "code",
      "source": [
        "sentence = \"the quick brown fox jumps over the lazy dog\"\n",
        "words = sentence.split()\n",
        "word_lengths = []\n",
        "for word in words:\n",
        "      if word != \"the\":\n",
        "          word_lengths.append(len(word))\n",
        "print(words)\n",
        "print(word_lengths)"
      ],
      "metadata": {
        "colab": {
          "base_uri": "https://localhost:8080/"
        },
        "id": "aL9BWJ-HXIE_",
        "outputId": "889a20cf-eae5-41f5-a7f6-9e243b4e2960"
      },
      "execution_count": 22,
      "outputs": [
        {
          "output_type": "stream",
          "name": "stdout",
          "text": [
            "['the', 'quick', 'brown', 'fox', 'jumps', 'over', 'the', 'lazy', 'dog']\n",
            "[5, 5, 3, 5, 4, 4, 3]\n"
          ]
        }
      ]
    },
    {
      "cell_type": "code",
      "source": [
        "sentence = \"the quick brown fox jumps over the lazy dog\"\n",
        "words = sentence.split()\n",
        "word_lengths = [len(word) for word in words if word != \"the\"]\n",
        "print(words)\n",
        "print(word_lengths)"
      ],
      "metadata": {
        "colab": {
          "base_uri": "https://localhost:8080/"
        },
        "id": "2IN_X5Gbag-P",
        "outputId": "1e9a7e6c-07df-4f9a-a253-bc0ec4131d70"
      },
      "execution_count": 23,
      "outputs": [
        {
          "output_type": "stream",
          "name": "stdout",
          "text": [
            "['the', 'quick', 'brown', 'fox', 'jumps', 'over', 'the', 'lazy', 'dog']\n",
            "[5, 5, 3, 5, 4, 4, 3]\n"
          ]
        }
      ]
    },
    {
      "cell_type": "code",
      "source": [
        "#Exercise\n",
        "\n",
        "numbers = [34.6, -203.4, 44.9, 68.3, -12.2, 44.6, 12.7]\n",
        "newlist = [int(x) for x in numbers if x > 0]\n",
        "print(newlist)"
      ],
      "metadata": {
        "colab": {
          "base_uri": "https://localhost:8080/"
        },
        "id": "z6LiZQkBdZ8H",
        "outputId": "c3b390ff-0408-4b0c-bd2e-03753b617a13"
      },
      "execution_count": 24,
      "outputs": [
        {
          "output_type": "stream",
          "name": "stdout",
          "text": [
            "[34, 44, 68, 44, 12]\n"
          ]
        }
      ]
    },
    {
      "cell_type": "markdown",
      "source": [
        "##**Lambda functions -**"
      ],
      "metadata": {
        "id": "Hx1eP6zude8B"
      }
    },
    {
      "cell_type": "code",
      "source": [
        "def sum(a,b):\n",
        "    return a + b\n",
        "\n",
        "a = 1\n",
        "b = 2\n",
        "c = sum(a,b)\n",
        "print(c)"
      ],
      "metadata": {
        "colab": {
          "base_uri": "https://localhost:8080/"
        },
        "id": "EXJ-4RiydZ-6",
        "outputId": "608290e5-54fc-42ed-b1cd-05c6a986f44e"
      },
      "execution_count": 25,
      "outputs": [
        {
          "output_type": "stream",
          "name": "stdout",
          "text": [
            "3\n"
          ]
        }
      ]
    },
    {
      "cell_type": "code",
      "source": [
        "a = 1\n",
        "b = 2\n",
        "sum = lambda x,y : x + y\n",
        "c = sum(a,b)\n",
        "print(c)"
      ],
      "metadata": {
        "colab": {
          "base_uri": "https://localhost:8080/"
        },
        "id": "eA3MxgjUdaBZ",
        "outputId": "51105a41-5b40-4fe5-ef02-67ede84b2c83"
      },
      "execution_count": 26,
      "outputs": [
        {
          "output_type": "stream",
          "name": "stdout",
          "text": [
            "3\n"
          ]
        }
      ]
    },
    {
      "cell_type": "code",
      "source": [
        "#Exercise\n",
        "\n",
        "l = [2,4,7,3,14,19]\n",
        "for i in l:\n",
        "    # your code here\n",
        "    my_lambda = lambda x : (x % 2) == 1\n",
        "    print(my_lambda(i))"
      ],
      "metadata": {
        "colab": {
          "base_uri": "https://localhost:8080/"
        },
        "id": "_GtUuYBfdpnh",
        "outputId": "efb5c15e-7ca7-4216-e5d4-10177f115cd9"
      },
      "execution_count": 27,
      "outputs": [
        {
          "output_type": "stream",
          "name": "stdout",
          "text": [
            "False\n",
            "False\n",
            "True\n",
            "True\n",
            "False\n",
            "True\n"
          ]
        }
      ]
    },
    {
      "cell_type": "markdown",
      "source": [
        "##**Multiple Function Arguments -**"
      ],
      "metadata": {
        "id": "K3iFfrt-dtlb"
      }
    },
    {
      "cell_type": "code",
      "source": [
        "def foo(first, second, third, *therest):\n",
        "    print(\"First: %s\" % first)\n",
        "    print(\"Second: %s\" % second)\n",
        "    print(\"Third: %s\" % third)\n",
        "    print(\"And all the rest... %s\" % list(therest))"
      ],
      "metadata": {
        "id": "7BGQOnsqdttT"
      },
      "execution_count": 28,
      "outputs": []
    },
    {
      "cell_type": "code",
      "source": [
        "#Exercise\n",
        "\n",
        "def foo(a, b, c, *args):\n",
        "    return len(args)\n",
        "\n",
        "def bar(a, b, c, **kwargs):\n",
        "    return kwargs[\"magicnumber\"] == 7\n",
        "\n",
        "\n",
        "# test code\n",
        "if foo(1, 2, 3, 4) == 1:\n",
        "    print(\"Good.\")\n",
        "if foo(1, 2, 3, 4, 5) == 2:\n",
        "    print(\"Better.\")\n",
        "if bar(1, 2, 3, magicnumber=6) == False:\n",
        "    print(\"Great.\")\n",
        "if bar(1, 2, 3, magicnumber=7) == True:\n",
        "    print(\"Awesome!\")"
      ],
      "metadata": {
        "colab": {
          "base_uri": "https://localhost:8080/"
        },
        "id": "OOZV_vFMdtzG",
        "outputId": "918fd6ee-e50b-4ae1-cf88-f67871063de4"
      },
      "execution_count": 29,
      "outputs": [
        {
          "output_type": "stream",
          "name": "stdout",
          "text": [
            "Good.\n",
            "Better.\n",
            "Great.\n",
            "Awesome!\n"
          ]
        }
      ]
    },
    {
      "cell_type": "markdown",
      "source": [
        "##**Regular Expressions -**"
      ],
      "metadata": {
        "id": "IZy_Njvtd9ub"
      }
    },
    {
      "cell_type": "code",
      "source": [
        "# Exercise: make a regular expression that will match an email\n",
        "import re\n",
        "def test_email(your_pattern):\n",
        "    pattern = re.compile(your_pattern)\n",
        "    emails = [\"john@example.com\", \"python-list@python.org\", \"wha.t.`1an?ug{}ly@email.com\"]\n",
        "    for email in emails:\n",
        "        if not re.match(pattern, email):\n",
        "            print(\"You failed to match %s\" % (email))\n",
        "        elif not your_pattern:\n",
        "            print(\"Forgot to enter a pattern!\")\n",
        "        else:\n",
        "            print(\"Pass\")\n",
        "# Your pattern here!\n",
        "pattern = r\"\\\"?([-a-zA-Z0-9.`?{}]+@\\w+\\.\\w+)\\\"?\"\n",
        "test_email(pattern)"
      ],
      "metadata": {
        "colab": {
          "base_uri": "https://localhost:8080/"
        },
        "id": "4cFs_rVHd92P",
        "outputId": "428df658-e2fe-40ef-cb0b-24ab1afc7864"
      },
      "execution_count": 30,
      "outputs": [
        {
          "output_type": "stream",
          "name": "stdout",
          "text": [
            "Pass\n",
            "Pass\n",
            "Pass\n"
          ]
        }
      ]
    },
    {
      "cell_type": "markdown",
      "source": [
        "##**Exception Handling -**"
      ],
      "metadata": {
        "id": "lxKLgpEweOrH"
      }
    },
    {
      "cell_type": "code",
      "source": [
        "#Exercise\n",
        "\n",
        "actor = {\"name\": \"John Cleese\", \"rank\": \"awesome\"}\n",
        "\n",
        "def get_last_name():\n",
        "    return actor[\"name\"].split()[1]\n",
        "\n",
        "get_last_name()\n",
        "print(\"All exceptions caught! Good job!\")\n",
        "print(\"The actor's last name is %s\" % get_last_name())"
      ],
      "metadata": {
        "colab": {
          "base_uri": "https://localhost:8080/"
        },
        "id": "fPIlvvbMd9-D",
        "outputId": "50c98358-557a-4337-f0a4-d0429bc0dc74"
      },
      "execution_count": 31,
      "outputs": [
        {
          "output_type": "stream",
          "name": "stdout",
          "text": [
            "All exceptions caught! Good job!\n",
            "The actor's last name is Cleese\n"
          ]
        }
      ]
    },
    {
      "cell_type": "markdown",
      "source": [
        "##**Sets -**"
      ],
      "metadata": {
        "id": "JfptRENIeUz8"
      }
    },
    {
      "cell_type": "code",
      "source": [
        "a = [\"Jake\", \"John\", \"Eric\"]\n",
        "b = [\"John\", \"Jill\"]\n",
        "\n",
        "A = set(a)\n",
        "B = set(b)\n",
        "\n",
        "print(A.difference(B))"
      ],
      "metadata": {
        "colab": {
          "base_uri": "https://localhost:8080/"
        },
        "id": "i0uQkx1KeU9D",
        "outputId": "494c00d1-4fb9-4e05-990a-e1bdb77b145b"
      },
      "execution_count": 32,
      "outputs": [
        {
          "output_type": "stream",
          "name": "stdout",
          "text": [
            "{'Eric', 'Jake'}\n"
          ]
        }
      ]
    },
    {
      "cell_type": "markdown",
      "source": [
        "##**Serialization -**"
      ],
      "metadata": {
        "id": "ZEcMLHJIeldw"
      }
    },
    {
      "cell_type": "code",
      "source": [
        "import json\n",
        "\n",
        "# fix this function, so it adds the given name\n",
        "# and salary pair to salaries_json, and return it\n",
        "def add_employee(salaries_json, name, salary):\n",
        "    salaries = json.loads(salaries_json)\n",
        "    salaries[name] = salary\n",
        "\n",
        "    return json.dumps(salaries)\n",
        "\n",
        "# test code\n",
        "salaries = '{\"Alfred\" : 300, \"Jane\" : 400 }'\n",
        "new_salaries = add_employee(salaries, \"Me\", 800)\n",
        "decoded_salaries = json.loads(new_salaries)\n",
        "print(decoded_salaries[\"Alfred\"])\n",
        "print(decoded_salaries[\"Jane\"])\n",
        "print(decoded_salaries[\"Me\"])"
      ],
      "metadata": {
        "colab": {
          "base_uri": "https://localhost:8080/"
        },
        "id": "f37VrPOgeVDx",
        "outputId": "055ef76a-873c-4f9a-e667-15ca1e21cd79"
      },
      "execution_count": 33,
      "outputs": [
        {
          "output_type": "stream",
          "name": "stdout",
          "text": [
            "300\n",
            "400\n",
            "800\n"
          ]
        }
      ]
    },
    {
      "cell_type": "markdown",
      "source": [
        "##**Partial Functions -**"
      ],
      "metadata": {
        "id": "a24jEn6EewHU"
      }
    },
    {
      "cell_type": "code",
      "source": [
        "from functools import partial\n",
        "def func(u, v, w, x):\n",
        "    return u*4 + v*3 + w*2 + x\n",
        "\n",
        "p = partial(func,5,6,7)\n",
        "print(p(8))"
      ],
      "metadata": {
        "colab": {
          "base_uri": "https://localhost:8080/"
        },
        "id": "hZX5sJSxe05M",
        "outputId": "a9ec3715-583a-47a9-9df7-626d3e767dc8"
      },
      "execution_count": 34,
      "outputs": [
        {
          "output_type": "stream",
          "name": "stdout",
          "text": [
            "60\n"
          ]
        }
      ]
    },
    {
      "cell_type": "markdown",
      "source": [
        "##**Code Introspection -**"
      ],
      "metadata": {
        "id": "KpBlaI1ce6BD"
      }
    },
    {
      "cell_type": "code",
      "source": [
        "# Define the Vehicle class\n",
        "class Vehicle:\n",
        "    name = \"\"\n",
        "    kind = \"car\"\n",
        "    color = \"\"\n",
        "    value = 100.00\n",
        "    def description(self):\n",
        "        desc_str = \"%s is a %s %s worth $%.2f.\" % (self.name, self.color, self.kind, self.value)\n",
        "        return desc_str\n",
        "\n",
        "# Print a list of all attributes of the Vehicle class.\n",
        "print(dir(Vehicle))"
      ],
      "metadata": {
        "colab": {
          "base_uri": "https://localhost:8080/"
        },
        "id": "RhQWR08He6LR",
        "outputId": "38c189b8-ef83-4e9f-9f07-3d45b94aff16"
      },
      "execution_count": 35,
      "outputs": [
        {
          "output_type": "stream",
          "name": "stdout",
          "text": [
            "['__class__', '__delattr__', '__dict__', '__dir__', '__doc__', '__eq__', '__format__', '__ge__', '__getattribute__', '__gt__', '__hash__', '__init__', '__init_subclass__', '__le__', '__lt__', '__module__', '__ne__', '__new__', '__reduce__', '__reduce_ex__', '__repr__', '__setattr__', '__sizeof__', '__str__', '__subclasshook__', '__weakref__', 'color', 'description', 'kind', 'name', 'value']\n"
          ]
        }
      ]
    },
    {
      "cell_type": "markdown",
      "source": [
        "##**Closures -**"
      ],
      "metadata": {
        "id": "Aj4s1CttfDOF"
      }
    },
    {
      "cell_type": "code",
      "source": [
        "#Exercise\n",
        "def multiplier_of(n):\n",
        "    def multiplier(number):\n",
        "        return number*n\n",
        "    return multiplier\n",
        "\n",
        "multiplywith5 = multiplier_of(5)\n",
        "print(multiplywith5(9))"
      ],
      "metadata": {
        "colab": {
          "base_uri": "https://localhost:8080/"
        },
        "id": "li0hn23FfDWZ",
        "outputId": "e06e71b3-5a3a-46ab-9c02-75c76dbf280a"
      },
      "execution_count": 36,
      "outputs": [
        {
          "output_type": "stream",
          "name": "stdout",
          "text": [
            "45\n"
          ]
        }
      ]
    },
    {
      "cell_type": "markdown",
      "source": [
        "##**Decorators -**"
      ],
      "metadata": {
        "id": "OOYknSwnfJMn"
      }
    },
    {
      "cell_type": "code",
      "source": [
        "#Exercise\n",
        "\n",
        "def type_check(correct_type):\n",
        "    def check(old_function):\n",
        "        def new_function(arg):\n",
        "            if (isinstance(arg, correct_type)):\n",
        "                return old_function(arg)\n",
        "            else:\n",
        "                print(\"Bad Type\")\n",
        "        return new_function\n",
        "    return check\n",
        "\n",
        "@type_check(int)\n",
        "def times2(num):\n",
        "    return num*2\n",
        "\n",
        "print(times2(2))\n",
        "times2('Not A Number')\n",
        "\n",
        "@type_check(str)\n",
        "def first_letter(word):\n",
        "    return word[0]\n",
        "\n",
        "print(first_letter('Hello World'))\n",
        "first_letter(['Not', 'A', 'String'])"
      ],
      "metadata": {
        "colab": {
          "base_uri": "https://localhost:8080/"
        },
        "id": "7KhIpflEfJVl",
        "outputId": "6b0864e6-ea1d-4e04-c694-59e7ade9e4b5"
      },
      "execution_count": 37,
      "outputs": [
        {
          "output_type": "stream",
          "name": "stdout",
          "text": [
            "4\n",
            "Bad Type\n",
            "H\n",
            "Bad Type\n"
          ]
        }
      ]
    },
    {
      "cell_type": "markdown",
      "source": [
        "##**Map, Filter, Reduce -**"
      ],
      "metadata": {
        "id": "q4S0KbdOfS7z"
      }
    },
    {
      "cell_type": "code",
      "source": [
        "#Exercise\n",
        "from functools import reduce\n",
        "\n",
        "my_floats = [4.35, 6.09, 3.25, 9.77, 2.16, 8.88, 4.59]\n",
        "my_names = [\"olumide\", \"akinremi\", \"josiah\", \"temidayo\", \"omoseun\"]\n",
        "my_numbers = [4, 6, 9, 23, 5]\n",
        "\n",
        "map_result = list(map(lambda x: round(x ** 2, 3), my_floats))\n",
        "filter_result = list(filter(lambda name: len(name) <= 7, my_names))\n",
        "reduce_result = reduce(lambda num1, num2: num1 * num2, my_numbers)\n",
        "\n",
        "print(map_result)\n",
        "print(filter_result)\n",
        "print(reduce_result)"
      ],
      "metadata": {
        "colab": {
          "base_uri": "https://localhost:8080/"
        },
        "id": "FYM0CsVgfTDt",
        "outputId": "b9c3668a-b7c2-470e-b619-a7a31a691a4c"
      },
      "execution_count": 38,
      "outputs": [
        {
          "output_type": "stream",
          "name": "stdout",
          "text": [
            "[18.922, 37.088, 10.562, 95.453, 4.666, 78.854, 21.068]\n",
            "['olumide', 'josiah', 'omoseun']\n",
            "24840\n"
          ]
        }
      ]
    }
  ]
}