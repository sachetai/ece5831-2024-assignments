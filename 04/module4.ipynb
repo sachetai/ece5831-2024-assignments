{
  "nbformat": 4,
  "nbformat_minor": 0,
  "metadata": {
    "colab": {
      "provenance": []
    },
    "kernelspec": {
      "name": "python3",
      "display_name": "Python 3"
    },
    "language_info": {
      "name": "python"
    }
  },
  "cells": [
    {
      "cell_type": "markdown",
      "source": [
        "##**Import necessary libraries -**"
      ],
      "metadata": {
        "id": "uUZFgidIgzSJ"
      }
    },
    {
      "cell_type": "code",
      "execution_count": null,
      "metadata": {
        "id": "99Wot5v2qOoW"
      },
      "outputs": [],
      "source": [
        "import numpy as np\n",
        "from multilayerperceptron import MultiLayerPerceptron"
      ]
    },
    {
      "cell_type": "markdown",
      "source": [
        "##**Step 1: Initialize the MLP**"
      ],
      "metadata": {
        "id": "MGNzHZ-ygzV4"
      }
    },
    {
      "cell_type": "code",
      "source": [
        "input_size = 2\n",
        "hidden_size = 3\n",
        "output_size = 1\n",
        "mlp = MultiLayerPerceptron(input_size, hidden_size, output_size)"
      ],
      "metadata": {
        "id": "6OYR42GdoT7s"
      },
      "execution_count": null,
      "outputs": []
    },
    {
      "cell_type": "markdown",
      "source": [
        "##**Step 2: Prepare the data**"
      ],
      "metadata": {
        "id": "Zi-60Cf3gzY6"
      }
    },
    {
      "cell_type": "code",
      "source": [
        "# XOR problem\n",
        "X = np.array([[0, 0], [0, 1], [1, 0], [1, 1]])\n",
        "y = np.array([[0], [1], [1], [0]])"
      ],
      "metadata": {
        "id": "Zd6JOh7-oYiV"
      },
      "execution_count": null,
      "outputs": []
    },
    {
      "cell_type": "markdown",
      "source": [
        "##**Step 3: Train the MLP**"
      ],
      "metadata": {
        "id": "xC9fsDbggzb8"
      }
    },
    {
      "cell_type": "code",
      "source": [
        "mlp.train(X, y, learning_rate=0.1, epochs=10000)"
      ],
      "metadata": {
        "id": "vJXBJ_Rmox_D"
      },
      "execution_count": null,
      "outputs": []
    },
    {
      "cell_type": "markdown",
      "source": [
        "##**Step 4: Test the MLP**"
      ],
      "metadata": {
        "id": "pVwFC2BCozEN"
      }
    },
    {
      "cell_type": "code",
      "source": [
        "output = mlp.predict(X)\n",
        "print(\"Predictions after training:\")\n",
        "print(output)"
      ],
      "metadata": {
        "id": "I8LwyGDlobEY"
      },
      "execution_count": null,
      "outputs": []
    }
  ]
}