{
  "cells": [
    {
      "cell_type": "markdown",
      "metadata": {
        "id": "uUZFgidIgzSJ"
      },
      "source": [
        "##**Import necessary libraries -**"
      ]
    },
    {
      "cell_type": "code",
      "execution_count": null,
      "metadata": {
        "id": "99Wot5v2qOoW"
      },
      "outputs": [],
      "source": [
        "import numpy as np\n",
        "from multilayerperceptron import MultiLayerPerceptron"
      ]
    },
    {
      "cell_type": "markdown",
      "metadata": {
        "id": "MGNzHZ-ygzV4"
      },
      "source": [
        "##**Step 1: Initialize the MLP**"
      ]
    },
    {
      "cell_type": "code",
      "execution_count": null,
      "metadata": {
        "id": "6OYR42GdoT7s"
      },
      "outputs": [],
      "source": [
        "#initialize the multilayerperceptron\n",
        "input_size = 2\n",
        "hidden_size = 3\n",
        "output_size = 1\n",
        "mlp = MultiLayerPerceptron(input_size, hidden_size, output_size)"
      ]
    },
    {
      "cell_type": "markdown",
      "metadata": {
        "id": "Zi-60Cf3gzY6"
      },
      "source": [
        "##**Step 2: Prepare the data**"
      ]
    },
    {
      "cell_type": "code",
      "execution_count": null,
      "metadata": {
        "id": "Zd6JOh7-oYiV"
      },
      "outputs": [],
      "source": [
        "# XOR problem\n",
        "X = np.array([[0, 0], [0, 1], [1, 0], [1, 1]])\n",
        "y = np.array([[0], [1], [1], [0]])"
      ]
    },
    {
      "cell_type": "markdown",
      "metadata": {
        "id": "xC9fsDbggzb8"
      },
      "source": [
        "##**Step 3: Train the MLP**"
      ]
    },
    {
      "cell_type": "code",
      "execution_count": null,
      "metadata": {
        "id": "vJXBJ_Rmox_D"
      },
      "outputs": [],
      "source": [
        "\"\"\"\n",
        "Train the MLP using the XOR data.\n",
        "Parameters:\n",
        "    learning_rate: Step size for each iteration of gradient descent.\n",
        "    epochs: Number of times the training algorithm will work through the entire dataset.\n",
        "\"\"\"\n",
        "\n",
        "mlp.train(X, y, learning_rate=0.1, epochs=10000)"
      ]
    },
    {
      "cell_type": "markdown",
      "metadata": {
        "id": "pVwFC2BCozEN"
      },
      "source": [
        "##**Step 4: Test the MLP**"
      ]
    },
    {
      "cell_type": "code",
      "execution_count": null,
      "metadata": {
        "id": "I8LwyGDlobEY"
      },
      "outputs": [],
      "source": [
        "output = mlp.predict(X)\n",
        "print(\"Predictions after training:\")\n",
        "print(output) #printing out output"
      ]
    }
  ],
  "metadata": {
    "colab": {
      "provenance": []
    },
    "kernelspec": {
      "display_name": "Python 3",
      "name": "python3"
    },
    "language_info": {
      "name": "python"
    }
  },
  "nbformat": 4,
  "nbformat_minor": 0
}
