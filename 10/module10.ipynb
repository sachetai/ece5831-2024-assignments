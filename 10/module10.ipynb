{
  "nbformat": 4,
  "nbformat_minor": 0,
  "metadata": {
    "colab": {
      "provenance": []
    },
    "kernelspec": {
      "name": "python3",
      "display_name": "Python 3"
    },
    "language_info": {
      "name": "python"
    }
  },
  "cells": [
    {
      "cell_type": "markdown",
      "source": [
        "##**Import necessary libraries -**"
      ],
      "metadata": {
        "id": "xa8qTEWS4Y33"
      }
    },
    {
      "cell_type": "code",
      "execution_count": null,
      "metadata": {
        "id": "apfg_qPD4Acw"
      },
      "outputs": [],
      "source": [
        "import os\n",
        "from dogs_cats import make_dataset_folders, make_dataset, build_network, train"
      ]
    },
    {
      "cell_type": "markdown",
      "source": [
        "##**Step 1: Create Dataset Folders -**"
      ],
      "metadata": {
        "id": "7WFIBiEd4gBu"
      }
    },
    {
      "cell_type": "code",
      "source": [
        "def create_dataset_folders():\n",
        "    \"\"\"\n",
        "    Creates the 'dogs-vs-cats' directory with subdirectories for\n",
        "    validation, training, and testing datasets. The data ranges\n",
        "    are split as follows:\n",
        "    - Validation: Images 0 to 2,399\n",
        "    - Training: Images 2,400 to 11,999\n",
        "    - Test: Images 12,000 to 12,499\n",
        "    \"\"\"\n",
        "    make_dataset_folders(\n",
        "        dataset_path=\"dogs-vs-cats\",\n",
        "        validation_range=(0, 2399),\n",
        "        train_range=(2400, 11999),\n",
        "        test_range=(12000, 12499)\n",
        "    )\n",
        "    print(\"Dataset folders created successfully!\")"
      ],
      "metadata": {
        "id": "sz_NHQ3E4Itu"
      },
      "execution_count": null,
      "outputs": []
    },
    {
      "cell_type": "markdown",
      "source": [
        "##**Step 2: Create Dataset Objects -**"
      ],
      "metadata": {
        "id": "4aDhPh4S4lDG"
      }
    },
    {
      "cell_type": "code",
      "source": [
        "def create_datasets():\n",
        "    \"\"\"\n",
        "    Creates Dataset objects for training, validation, and testing using\n",
        "    the `make_dataset()` function. Each Dataset object is initialized\n",
        "    using the corresponding subdirectories created in the previous step.\n",
        "\n",
        "    Returns:\n",
        "        train_dataset (Dataset): Dataset object for training\n",
        "        val_dataset (Dataset): Dataset object for validation\n",
        "        test_dataset (Dataset): Dataset object for testing\n",
        "    \"\"\"\n",
        "    train_dataset = make_dataset(\"dogs-vs-cats/train\")\n",
        "    val_dataset = make_dataset(\"dogs-vs-cats/validation\")\n",
        "    test_dataset = make_dataset(\"dogs-vs-cats/test\")\n",
        "\n",
        "    print(\"Datasets created successfully!\")\n",
        "    return train_dataset, val_dataset, test_dataset"
      ],
      "metadata": {
        "id": "PuXfG4no4Iwl"
      },
      "execution_count": null,
      "outputs": []
    },
    {
      "cell_type": "markdown",
      "source": [
        "##**Step 3: Build Neural Network -**"
      ],
      "metadata": {
        "id": "I_Z3LXZL4pbh"
      }
    },
    {
      "cell_type": "code",
      "source": [
        "def build_nn():\n",
        "    \"\"\"\n",
        "    Builds the neural network using the `build_network()` function.\n",
        "\n",
        "    Returns:\n",
        "        model (keras.Model): Compiled neural network model\n",
        "    \"\"\"\n",
        "    model = build_network()\n",
        "    model.summary()\n",
        "    return model\n"
      ],
      "metadata": {
        "id": "JwFVbGuf4Iy7"
      },
      "execution_count": null,
      "outputs": []
    },
    {
      "cell_type": "markdown",
      "source": [
        "##**Step 4: Train the Neural Network -**"
      ],
      "metadata": {
        "id": "5tRBADLi4tYZ"
      }
    },
    {
      "cell_type": "code",
      "source": [
        "def train_nn(model, train_dataset, val_dataset):\n",
        "    \"\"\"\n",
        "    Trains the neural network using the `train()` function.\n",
        "\n",
        "    Args:\n",
        "        model (keras.Model): Neural network model to train\n",
        "        train_dataset (Dataset): Dataset object for training\n",
        "        val_dataset (Dataset): Dataset object for validation\n",
        "\n",
        "    Returns:\n",
        "        history (History): Training history object\n",
        "    \"\"\"\n",
        "    history = train(\n",
        "        model=model,\n",
        "        train_dataset=train_dataset,\n",
        "        validation_dataset=val_dataset,\n",
        "        epochs=10  # Adjust the number of epochs as needed\n",
        "    )\n",
        "    print(\"Model training completed!\")\n",
        "    return history"
      ],
      "metadata": {
        "id": "LwfEcAt24I1z"
      },
      "execution_count": null,
      "outputs": []
    },
    {
      "cell_type": "markdown",
      "source": [
        "##**Main workflow -**"
      ],
      "metadata": {
        "id": "KYI4xKHo4zPo"
      }
    },
    {
      "cell_type": "code",
      "source": [
        "if __name__ == \"__main__\":\n",
        "    # Step 1: Create Dataset Folders\n",
        "    create_dataset_folders()\n",
        "\n",
        "    # Step 2: Create Datasets\n",
        "    train_dataset, val_dataset, test_dataset = create_datasets()\n",
        "\n",
        "    # Step 3: Build Neural Network\n",
        "    model = build_nn()\n",
        "\n",
        "    # Step 4: Train the Neural Network\n",
        "    train_history = train_nn(model, train_dataset, val_dataset)"
      ],
      "metadata": {
        "id": "4cvPgUJT4I4J"
      },
      "execution_count": null,
      "outputs": []
    }
  ]
}