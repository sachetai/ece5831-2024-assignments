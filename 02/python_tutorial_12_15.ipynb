{
  "nbformat": 4,
  "nbformat_minor": 0,
  "metadata": {
    "colab": {
      "provenance": []
    },
    "kernelspec": {
      "name": "python3",
      "display_name": "Python 3"
    },
    "language_info": {
      "name": "python"
    }
  },
  "cells": [
    {
      "cell_type": "markdown",
      "source": [
        "##**Section 12. Working with files -**"
      ],
      "metadata": {
        "id": "RyZoNCBSGXZK"
      }
    },
    {
      "cell_type": "markdown",
      "source": [
        "###Read Text File"
      ],
      "metadata": {
        "id": "Ag59fU0VGdJA"
      }
    },
    {
      "cell_type": "code",
      "execution_count": null,
      "metadata": {
        "id": "ks1JoyWMGVCj"
      },
      "outputs": [],
      "source": [
        "#open() function\n",
        "with open('readme.txt') as f:\n",
        "    lines = f.readlines()\n",
        "\n",
        " f = open('the-zen-of-python.txt','r')"
      ]
    },
    {
      "cell_type": "code",
      "source": [
        "#close() method\n",
        "with open(path_to_file) as f:\n",
        "    contents = f.readlines()\n",
        "\n",
        "f.close()"
      ],
      "metadata": {
        "id": "cUJUO4T2HgsG"
      },
      "execution_count": null,
      "outputs": []
    },
    {
      "cell_type": "code",
      "source": [
        "#Read UTF-8 text files\n",
        "with open('quotes.txt', encoding='utf8') as f:\n",
        "    for line in f:\n",
        "        print(line.strip())"
      ],
      "metadata": {
        "id": "hZlZ2CQ9Hgze"
      },
      "execution_count": null,
      "outputs": []
    },
    {
      "cell_type": "markdown",
      "source": [
        "###Write Text File"
      ],
      "metadata": {
        "id": "tDfVmldBJpSS"
      }
    },
    {
      "cell_type": "code",
      "source": [
        "with open('readme.txt', 'w') as f:\n",
        "    f.write('readme')"
      ],
      "metadata": {
        "id": "DbVGFO-cJpau"
      },
      "execution_count": null,
      "outputs": []
    },
    {
      "cell_type": "markdown",
      "source": [
        "###Create a new text file"
      ],
      "metadata": {
        "id": "SNwLPZhHJxK2"
      }
    },
    {
      "cell_type": "code",
      "source": [
        "with open('readme.txt', 'w') as f:\n",
        "    f.write('Create a new text file!')"
      ],
      "metadata": {
        "id": "5rnj2dxsJxU4"
      },
      "execution_count": null,
      "outputs": []
    },
    {
      "cell_type": "markdown",
      "source": [
        "###Check If File Exists"
      ],
      "metadata": {
        "id": "-98zCxbaJ-9g"
      }
    },
    {
      "cell_type": "code",
      "source": [
        "from os.path import exists\n",
        "\n",
        "file_exists = exists(path_to_file)"
      ],
      "metadata": {
        "id": "2tHfG4sQJ_FU"
      },
      "execution_count": null,
      "outputs": []
    },
    {
      "cell_type": "markdown",
      "source": [
        "###Read CSV File"
      ],
      "metadata": {
        "id": "R_CepVt-KGf_"
      }
    },
    {
      "cell_type": "code",
      "source": [
        "import csv\n",
        "\n",
        "with open('country.csv', encoding=\"utf8\") as f:\n",
        "    csv_reader = csv.reader(f)\n",
        "    for line in csv_reader:\n",
        "        print(line)"
      ],
      "metadata": {
        "id": "ytqN4F9WKGn_"
      },
      "execution_count": null,
      "outputs": []
    },
    {
      "cell_type": "code",
      "source": [
        "#Reading a CSV file using the DictReader class\n",
        "import csv\n",
        "\n",
        "with open('country.csv', encoding=\"utf8\") as f:\n",
        "    csv_reader = csv.DictReader(f)\n",
        "    # skip the header\n",
        "    next(csv_reader)\n",
        "    # show the data\n",
        "    for line in csv_reader:\n",
        "        print(f\"The area of {line['name']} is {line['area']} km2\")\n"
      ],
      "metadata": {
        "id": "BWwC_No8KrJi"
      },
      "execution_count": null,
      "outputs": []
    },
    {
      "cell_type": "markdown",
      "source": [
        "###Write CSV files"
      ],
      "metadata": {
        "id": "SDmnDthQKqh9"
      }
    },
    {
      "cell_type": "code",
      "source": [
        "import csv\n",
        "\n",
        "header = ['name', 'area', 'country_code2', 'country_code3']\n",
        "data = ['Afghanistan', 652090, 'AF', 'AFG']\n",
        "\n",
        "with open('countries.csv', 'w', encoding='UTF8') as f:\n",
        "    writer = csv.writer(f)\n",
        "\n",
        "    # write the header\n",
        "    writer.writerow(header)\n",
        "\n",
        "    # write the data\n",
        "    writer.writerow(data)"
      ],
      "metadata": {
        "id": "E7-RjhYyLDYU"
      },
      "execution_count": null,
      "outputs": []
    },
    {
      "cell_type": "markdown",
      "source": [
        "###Rename a file"
      ],
      "metadata": {
        "id": "4fyKhANyLSbb"
      }
    },
    {
      "cell_type": "code",
      "source": [
        "import os\n",
        "os.rename('readme.txt', 'notes.txt')"
      ],
      "metadata": {
        "id": "qtNP4W9FLSjr"
      },
      "execution_count": null,
      "outputs": []
    },
    {
      "cell_type": "markdown",
      "source": [
        "###Delete a file"
      ],
      "metadata": {
        "id": "3Z2La1IEL88S"
      }
    },
    {
      "cell_type": "code",
      "source": [
        "import os\n",
        "os.remove('readme.txt')\n",
        "\n",
        "\n",
        "#Method2(try...except)\n",
        "import os\n",
        "\n",
        "try:\n",
        "    os.remove('readme.txt')\n",
        "except FileNotFoundError as e:\n",
        "    print(e)"
      ],
      "metadata": {
        "id": "WphneCstL9EW"
      },
      "execution_count": null,
      "outputs": []
    },
    {
      "cell_type": "markdown",
      "source": [
        "##**Section 13. Working Directories -**"
      ],
      "metadata": {
        "id": "FRlhkwckMfjx"
      }
    },
    {
      "cell_type": "markdown",
      "source": [
        "###Create a directory\n"
      ],
      "metadata": {
        "id": "bO4hGq61MhkC"
      }
    },
    {
      "cell_type": "code",
      "source": [
        "import os\n",
        "\n",
        "dir = os.path.join(\"C:\\\\\", \"temp\", \"python\")\n",
        "if not os.path.exists(dir):\n",
        "    os.mkdir(dir)"
      ],
      "metadata": {
        "id": "KCcXKo4YMhtx"
      },
      "execution_count": null,
      "outputs": []
    },
    {
      "cell_type": "markdown",
      "source": [
        "###Rename a directory"
      ],
      "metadata": {
        "id": "7gAuhhK-Mukq"
      }
    },
    {
      "cell_type": "code",
      "source": [
        "import os\n",
        "\n",
        "oldpath = os.path.join(\"C:\\\\\", \"temp\", \"python\")\n",
        "newpath = os.path.join(\"C:\\\\\", \"temp\", \"python3\")\n",
        "\n",
        "if os.path.exists(oldpath) and not os.path.exists(newpath):\n",
        "    os.rename(oldpath, newpath)\n",
        "    print(\"'{0}' was renamed to '{1}'\".format(oldpath, newpath))"
      ],
      "metadata": {
        "id": "CqXvr8QwMwvk"
      },
      "execution_count": null,
      "outputs": []
    },
    {
      "cell_type": "markdown",
      "source": [
        "###Delete a directory"
      ],
      "metadata": {
        "id": "yfrldPzCMxvS"
      }
    },
    {
      "cell_type": "code",
      "source": [
        "import os\n",
        "\n",
        "dir = os.path.join(\"C:\\\\\",\"temp\",\"python\")\n",
        "if os.path.exists(dir):\n",
        "    os.rmdir(dir)\n",
        "    print(dir + ' is removed.')"
      ],
      "metadata": {
        "id": "1TSMea1nMx5Y"
      },
      "execution_count": null,
      "outputs": []
    },
    {
      "cell_type": "markdown",
      "source": [
        "###Traverse a directory recursively"
      ],
      "metadata": {
        "id": "tUwyOZsyM4Ce"
      }
    },
    {
      "cell_type": "code",
      "source": [
        "import os\n",
        "\n",
        "path = \"c:\\\\temp\"\n",
        "for root, dirs, files in os.walk(path):\n",
        "    print(\"{0} has {1} files\".format(root, len(files)))"
      ],
      "metadata": {
        "id": "6jiWm2a7M4KU"
      },
      "execution_count": null,
      "outputs": []
    },
    {
      "cell_type": "markdown",
      "source": [
        "###list files"
      ],
      "metadata": {
        "id": "i61d1oVDM8KR"
      }
    },
    {
      "cell_type": "code",
      "source": [
        "import os\n",
        "\n",
        "\n",
        "path = 'D:\\\\web'\n",
        "\n",
        "html_files = []\n",
        "\n",
        "for dirpath, dirnames, filenames in os.walk(path):\n",
        "    for filename in filenames:\n",
        "        if filename.endswith('.html'):\n",
        "            html_files.append(os.path.join(dirpath, filename))\n",
        "\n",
        "for html_file in html_files:\n",
        "    print(html_file)"
      ],
      "metadata": {
        "id": "gRycsOrWM8Sd"
      },
      "execution_count": 1,
      "outputs": []
    },
    {
      "cell_type": "code",
      "source": [
        "import os\n",
        "\n",
        "\n",
        "def list_files(path, extentions=None):\n",
        "    \"\"\" List all files in a directory specified by path\n",
        "    Args:\n",
        "        path - the root directory path\n",
        "        extensions - a iterator of file extensions to include, pass None to get all files.\n",
        "    Returns:\n",
        "        A list of files specified by extensions\n",
        "    \"\"\"\n",
        "    for root, _, files in os.walk(path):\n",
        "        for file in files:\n",
        "            if extentions is None:\n",
        "                yield os.path.join(root, file)\n",
        "            else:\n",
        "                for ext in extentions:\n",
        "                    if file.endswith(ext):\n",
        "                        yield os.path.join(root, file)\n",
        "\n",
        "\n",
        "if __name__ == '__main__':\n",
        "    filepaths = list_files(r'D:\\web', ('.html', '.css'))\n",
        "    for filepath in filepaths:\n",
        "        print(filepath)"
      ],
      "metadata": {
        "id": "Vbazbv8oNLKX"
      },
      "execution_count": null,
      "outputs": []
    },
    {
      "cell_type": "markdown",
      "source": [
        "##**Section 15. Strings -**"
      ],
      "metadata": {
        "id": "OaTkTE-6NTvn"
      }
    },
    {
      "cell_type": "markdown",
      "source": [
        "###f-strings"
      ],
      "metadata": {
        "id": "f6DaDRw7NgkP"
      }
    },
    {
      "cell_type": "code",
      "source": [
        "name = 'John'\n",
        "s = f'Hello, {name}!'\n",
        "print(s)"
      ],
      "metadata": {
        "id": "uI6nosk2NT4D"
      },
      "execution_count": null,
      "outputs": []
    },
    {
      "cell_type": "code",
      "source": [
        "number = 0.1259\n",
        "s = f'{number: .2%}'\n",
        "print(s)  # 12.59%\n",
        "\n",
        "s = f'{number: .1%}'\n",
        "print(s)  # 12.5%"
      ],
      "metadata": {
        "id": "pUo5FBwnNnFS"
      },
      "execution_count": null,
      "outputs": []
    },
    {
      "cell_type": "markdown",
      "source": [
        "###Raw strings"
      ],
      "metadata": {
        "id": "2-JhFNowNoKE"
      }
    },
    {
      "cell_type": "code",
      "source": [
        "s1 = r'lang\\tver\\nPython\\t3'\n",
        "s2 = 'lang\\\\tver\\\\nPython\\\\t3'\n",
        "\n",
        "print(s1 == s2) # True"
      ],
      "metadata": {
        "id": "_JnRd5IvNuCN"
      },
      "execution_count": null,
      "outputs": []
    },
    {
      "cell_type": "code",
      "source": [
        "#Convert a regular string into a raw string\n",
        "s = '\\n'\n",
        "raw_string = repr(s)\n",
        "\n",
        "print(raw_string)"
      ],
      "metadata": {
        "id": "l-IB8lPoNoce"
      },
      "execution_count": null,
      "outputs": []
    },
    {
      "cell_type": "markdown",
      "source": [
        "###Backslash"
      ],
      "metadata": {
        "id": "scLMEhHTN-n1"
      }
    },
    {
      "cell_type": "code",
      "source": [
        "colors = ['red','green','blue']\n",
        "rgb = '\\n'.join(colors)\n",
        "s = f\"The RGB colors are:\\n{rgb}\"\n",
        "print(s)"
      ],
      "metadata": {
        "id": "Xu-00arON-vF"
      },
      "execution_count": null,
      "outputs": []
    },
    {
      "cell_type": "code",
      "source": [
        "#Backslash in raw strings\n",
        "s = r'\\n'\n",
        "print(s)"
      ],
      "metadata": {
        "id": "9MyMDk_2OJVI"
      },
      "execution_count": null,
      "outputs": []
    }
  ]
}