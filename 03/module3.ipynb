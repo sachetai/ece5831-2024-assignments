{
  "nbformat": 4,
  "nbformat_minor": 0,
  "metadata": {
    "colab": {
      "provenance": []
    },
    "kernelspec": {
      "name": "python3",
      "display_name": "Python 3"
    },
    "language_info": {
      "name": "python"
    }
  },
  "cells": [
    {
      "cell_type": "markdown",
      "source": [
        "##**Module 3: Logic Gates using NumPy -**"
      ],
      "metadata": {
        "id": "4K2615Wf1YP0"
      }
    },
    {
      "cell_type": "markdown",
      "source": [
        "This module demonstrates how to implement basic logic gates using NumPy and then test their functionality with example inputs. The logic gates we will implement include:\n",
        "\n",
        "1.   AND Gate\n",
        "2.   OR Gate\n",
        "3.   NOT Gate\n",
        "4. XOR Gate\n",
        "\n",
        "\n",
        "We'll use the logic_gate class that contains static methods for each logic gate operation. This ensures reusability and clarity in the logic."
      ],
      "metadata": {
        "id": "8GH38hEd1YSa"
      }
    },
    {
      "cell_type": "code",
      "source": [
        "from logic_gate import LogicGate\n",
        "\n",
        "# AND gate example\n",
        "print(LogicGate.AND([1, 0], [1, 1]))  # Output: [1 0]\n",
        "\n",
        "# OR gate example\n",
        "print(LogicGate.OR([1, 0], [0, 1]))   # Output: [1 1]\n",
        "\n",
        "# NOT gate example\n",
        "print(LogicGate.NOT([1, 0]))          # Output: [0 1]\n",
        "\n",
        "# XOR gate example\n",
        "print(LogicGate.XOR([1, 0], [0, 1]))  # Output: [1 1]\n"
      ],
      "metadata": {
        "colab": {
          "base_uri": "https://localhost:8080/"
        },
        "id": "bRXmq9oN0Qr9",
        "outputId": "da29d0f9-57c1-432e-d457-4fc6d394bf52"
      },
      "execution_count": 5,
      "outputs": [
        {
          "output_type": "stream",
          "name": "stdout",
          "text": [
            "[1 0]\n",
            "[1 1]\n",
            "[0 1]\n",
            "[1 1]\n"
          ]
        }
      ]
    }
  ]
}