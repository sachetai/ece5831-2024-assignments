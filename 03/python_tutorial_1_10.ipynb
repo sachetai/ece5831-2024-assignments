{
  "nbformat": 4,
  "nbformat_minor": 0,
  "metadata": {
    "colab": {
      "provenance": []
    },
    "kernelspec": {
      "name": "python3",
      "display_name": "Python 3"
    },
    "language_info": {
      "name": "python"
    }
  },
  "cells": [
    {
      "cell_type": "markdown",
      "source": [
        "##**Section 1. Fundamentals -**"
      ],
      "metadata": {
        "id": "pcjyThqQhtqX"
      }
    },
    {
      "cell_type": "markdown",
      "source": [
        "###Syntax"
      ],
      "metadata": {
        "id": "grxW_7hKgC3Y"
      }
    },
    {
      "cell_type": "code",
      "execution_count": 1,
      "metadata": {
        "colab": {
          "base_uri": "https://localhost:8080/"
        },
        "id": "EGK8Sj2wfn60",
        "outputId": "4f2cb6a4-b9e8-4866-8820-f1c5a5f23279"
      },
      "outputs": [
        {
          "output_type": "stream",
          "name": "stdout",
          "text": [
            "1\n",
            "2\n",
            "3\n",
            "4\n",
            "5\n",
            "6\n",
            "7\n",
            "8\n",
            "9\n"
          ]
        }
      ],
      "source": [
        "def main():\n",
        "    i = 1\n",
        "    max = 10\n",
        "    while (i < max):\n",
        "        print(i)\n",
        "        i = i + 1\n",
        "\n",
        "# call function main\n",
        "main()"
      ]
    },
    {
      "cell_type": "markdown",
      "source": [
        "###Variables"
      ],
      "metadata": {
        "id": "aHpuCyqwgMKi"
      }
    },
    {
      "cell_type": "code",
      "source": [
        "message = 'Hello, World!'\n",
        "print(message)\n",
        "\n",
        "message = 'Good Bye!'\n",
        "print(message)"
      ],
      "metadata": {
        "colab": {
          "base_uri": "https://localhost:8080/"
        },
        "id": "Alqg-95AgMcG",
        "outputId": "f7795317-5282-4aa9-96a6-fc352ee41dee"
      },
      "execution_count": 2,
      "outputs": [
        {
          "output_type": "stream",
          "name": "stdout",
          "text": [
            "Hello, World!\n",
            "Good Bye!\n"
          ]
        }
      ]
    },
    {
      "cell_type": "markdown",
      "source": [
        "###Strings"
      ],
      "metadata": {
        "id": "H8KJvB1rgN1d"
      }
    },
    {
      "cell_type": "code",
      "source": [
        "message = 'This is a string in Python'\n",
        "message = \"This is also a string\""
      ],
      "metadata": {
        "id": "zY_I9p9TgN-K"
      },
      "execution_count": 3,
      "outputs": []
    },
    {
      "cell_type": "markdown",
      "source": [
        "###Numbers"
      ],
      "metadata": {
        "id": "44sLebo0gZ06"
      }
    },
    {
      "cell_type": "code",
      "source": [
        "1 + 2.0"
      ],
      "metadata": {
        "colab": {
          "base_uri": "https://localhost:8080/"
        },
        "id": "lKN4rLiMgZ84",
        "outputId": "49f9ae6f-637d-4bc0-8d7f-8b35affbfa3f"
      },
      "execution_count": 4,
      "outputs": [
        {
          "output_type": "execute_result",
          "data": {
            "text/plain": [
              "3.0"
            ]
          },
          "metadata": {},
          "execution_count": 4
        }
      ]
    },
    {
      "cell_type": "markdown",
      "source": [
        "###Booleans"
      ],
      "metadata": {
        "id": "_hkbn_1bgaEt"
      }
    },
    {
      "cell_type": "code",
      "source": [
        "is_active = True\n",
        "is_admin = False\n",
        "\n",
        "bool('Hi')"
      ],
      "metadata": {
        "colab": {
          "base_uri": "https://localhost:8080/"
        },
        "id": "q3zuup7WgaM7",
        "outputId": "00153205-83ce-4def-bcf4-95f8b6dbf3a5"
      },
      "execution_count": 5,
      "outputs": [
        {
          "output_type": "execute_result",
          "data": {
            "text/plain": [
              "True"
            ]
          },
          "metadata": {},
          "execution_count": 5
        }
      ]
    },
    {
      "cell_type": "markdown",
      "source": [
        "###Constants"
      ],
      "metadata": {
        "id": "ZAebNhf4gaVD"
      }
    },
    {
      "cell_type": "code",
      "source": [
        "FILE_SIZE_LIMIT = 2000"
      ],
      "metadata": {
        "id": "ZVgiYeSSgace"
      },
      "execution_count": 6,
      "outputs": []
    },
    {
      "cell_type": "markdown",
      "source": [
        "###Comments"
      ],
      "metadata": {
        "id": "ThT2mvrSgalx"
      }
    },
    {
      "cell_type": "code",
      "source": [
        "# increase price by 5%\n",
        "#price = price * 1.05"
      ],
      "metadata": {
        "id": "SqaPq9J2gatU"
      },
      "execution_count": 7,
      "outputs": []
    },
    {
      "cell_type": "markdown",
      "source": [
        "###Type Conversion"
      ],
      "metadata": {
        "id": "Rin0oiPfhLW9"
      }
    },
    {
      "cell_type": "code",
      "source": [
        "value = input('Enter a value:')\n",
        "print(value)"
      ],
      "metadata": {
        "colab": {
          "base_uri": "https://localhost:8080/"
        },
        "id": "4xGxAfQ4hLe2",
        "outputId": "219f6e9b-5fb2-4026-9f2b-347819676864"
      },
      "execution_count": 8,
      "outputs": [
        {
          "output_type": "stream",
          "name": "stdout",
          "text": [
            "Enter a value:4\n",
            "4\n"
          ]
        }
      ]
    },
    {
      "cell_type": "markdown",
      "source": [
        "##**Section 2. Operators -**"
      ],
      "metadata": {
        "id": "26mL9EBGhw5x"
      }
    },
    {
      "cell_type": "markdown",
      "source": [
        "###Comparision operators"
      ],
      "metadata": {
        "id": "zL-XxaYGhw8K"
      }
    },
    {
      "cell_type": "code",
      "source": [
        "20 == 10"
      ],
      "metadata": {
        "colab": {
          "base_uri": "https://localhost:8080/"
        },
        "id": "uIsDIuAxiqJB",
        "outputId": "2cbf92a9-9b92-4175-c2d0-0eeac49f6dee"
      },
      "execution_count": 9,
      "outputs": [
        {
          "output_type": "execute_result",
          "data": {
            "text/plain": [
              "False"
            ]
          },
          "metadata": {},
          "execution_count": 9
        }
      ]
    },
    {
      "cell_type": "markdown",
      "source": [
        "###Logical Operators"
      ],
      "metadata": {
        "id": "YqbrXZtvh1IX"
      }
    },
    {
      "cell_type": "code",
      "source": [
        "price = 9.99\n",
        "price > 9 and price < 10"
      ],
      "metadata": {
        "colab": {
          "base_uri": "https://localhost:8080/"
        },
        "id": "9UrxHnLiiwvG",
        "outputId": "eb595c47-f509-4a12-bcec-a08ec0eb7661"
      },
      "execution_count": 10,
      "outputs": [
        {
          "output_type": "execute_result",
          "data": {
            "text/plain": [
              "True"
            ]
          },
          "metadata": {},
          "execution_count": 10
        }
      ]
    },
    {
      "cell_type": "markdown",
      "source": [
        "##**Section 3. Control flow -**"
      ],
      "metadata": {
        "id": "fZA7lo6Kh1rJ"
      }
    },
    {
      "cell_type": "markdown",
      "source": [
        "###if-else"
      ],
      "metadata": {
        "id": "2Zikand0jW58"
      }
    },
    {
      "cell_type": "code",
      "source": [
        "age = input('Enter your age:')\n",
        "if int(age) >= 18:\n",
        "    print(\"You're eligible to vote.\")\n",
        "else:\n",
        "    print(\"You're not eligible to vote.\")"
      ],
      "metadata": {
        "id": "c1b9FEYYh9dW",
        "colab": {
          "base_uri": "https://localhost:8080/"
        },
        "outputId": "6679e20e-5d77-425d-c510-013e4f0a28c6"
      },
      "execution_count": 11,
      "outputs": [
        {
          "output_type": "stream",
          "name": "stdout",
          "text": [
            "Enter your age:22\n",
            "You're eligible to vote.\n"
          ]
        }
      ]
    },
    {
      "cell_type": "markdown",
      "source": [
        "###ternary operators"
      ],
      "metadata": {
        "id": "qLf1htzwjehx"
      }
    },
    {
      "cell_type": "code",
      "source": [
        "age = input('Enter your age:')\n",
        "\n",
        "ticket_price = 20 if int(age) >= 18 else 5\n",
        "\n",
        "print(f\"The ticket price is {ticket_price}\")"
      ],
      "metadata": {
        "id": "yzo5fSNyh-Du",
        "colab": {
          "base_uri": "https://localhost:8080/"
        },
        "outputId": "33dd72ae-78f3-4032-ae0e-3fbdbac165ca"
      },
      "execution_count": 12,
      "outputs": [
        {
          "output_type": "stream",
          "name": "stdout",
          "text": [
            "Enter your age:22\n",
            "The ticket price is 20\n"
          ]
        }
      ]
    },
    {
      "cell_type": "markdown",
      "source": [
        "##**Section 4. Functions -**"
      ],
      "metadata": {
        "id": "nL3s3SbIh-R7"
      }
    },
    {
      "cell_type": "markdown",
      "source": [
        "###for Loop with Range"
      ],
      "metadata": {
        "id": "JtRCURXTiEAG"
      }
    },
    {
      "cell_type": "code",
      "source": [
        "for index in range(0, 11, 2):\n",
        "    print(index) #odd numbers"
      ],
      "metadata": {
        "colab": {
          "base_uri": "https://localhost:8080/"
        },
        "id": "27MZwQoFiEVr",
        "outputId": "4cfb23f0-822d-4b26-a16b-aeeb96eedd2b"
      },
      "execution_count": 13,
      "outputs": [
        {
          "output_type": "stream",
          "name": "stdout",
          "text": [
            "0\n",
            "2\n",
            "4\n",
            "6\n",
            "8\n",
            "10\n"
          ]
        }
      ]
    },
    {
      "cell_type": "markdown",
      "source": [
        "###while"
      ],
      "metadata": {
        "id": "Z2ICdNkykQdb"
      }
    },
    {
      "cell_type": "code",
      "source": [
        "max = 5\n",
        "counter = 0\n",
        "\n",
        "while counter < max:\n",
        "    print(counter)\n",
        "    counter += 1"
      ],
      "metadata": {
        "colab": {
          "base_uri": "https://localhost:8080/"
        },
        "id": "cTzcve_dkQmV",
        "outputId": "8c94f622-1791-41a5-f45b-6044801d4199"
      },
      "execution_count": 14,
      "outputs": [
        {
          "output_type": "stream",
          "name": "stdout",
          "text": [
            "0\n",
            "1\n",
            "2\n",
            "3\n",
            "4\n"
          ]
        }
      ]
    },
    {
      "cell_type": "markdown",
      "source": [
        "###break"
      ],
      "metadata": {
        "id": "AnjUFSFnkXGE"
      }
    },
    {
      "cell_type": "code",
      "source": [
        "for index in range(0, 10):\n",
        "    print(index)\n",
        "    if index == 3:\n",
        "        break"
      ],
      "metadata": {
        "id": "XZrMrwvFkXRF",
        "colab": {
          "base_uri": "https://localhost:8080/"
        },
        "outputId": "6ad64b49-35ac-4be8-abaf-aa6175782e20"
      },
      "execution_count": 15,
      "outputs": [
        {
          "output_type": "stream",
          "name": "stdout",
          "text": [
            "0\n",
            "1\n",
            "2\n",
            "3\n"
          ]
        }
      ]
    },
    {
      "cell_type": "markdown",
      "source": [
        "###continue"
      ],
      "metadata": {
        "id": "hZP8o3Qdke6F"
      }
    },
    {
      "cell_type": "code",
      "source": [
        "for index in range(10):\n",
        "    if index % 2:\n",
        "        continue\n",
        "\n",
        "    print(index)"
      ],
      "metadata": {
        "id": "s0rjnIcqkfCc",
        "colab": {
          "base_uri": "https://localhost:8080/"
        },
        "outputId": "74b20557-b514-410e-e885-38fec80e02a0"
      },
      "execution_count": 16,
      "outputs": [
        {
          "output_type": "stream",
          "name": "stdout",
          "text": [
            "0\n",
            "2\n",
            "4\n",
            "6\n",
            "8\n"
          ]
        }
      ]
    },
    {
      "cell_type": "markdown",
      "source": [
        "###pass"
      ],
      "metadata": {
        "id": "pbF9ypnTkXfK"
      }
    },
    {
      "cell_type": "code",
      "source": [
        "for i in range(1,100):\n",
        "    pass"
      ],
      "metadata": {
        "id": "oCUK6I4WkXmv"
      },
      "execution_count": 17,
      "outputs": []
    },
    {
      "cell_type": "markdown",
      "source": [
        "##**Section 5. Lists -**"
      ],
      "metadata": {
        "id": "mQp7Zr7siHA6"
      }
    },
    {
      "cell_type": "markdown",
      "source": [],
      "metadata": {
        "id": "IwfapBzZiJcA"
      }
    },
    {
      "cell_type": "code",
      "source": [],
      "metadata": {
        "id": "z9IwVOs-iJk2"
      },
      "execution_count": 17,
      "outputs": []
    },
    {
      "cell_type": "markdown",
      "source": [
        "##**Section 6. Dictionaries -**"
      ],
      "metadata": {
        "id": "MFhWfDAxiKWS"
      }
    },
    {
      "cell_type": "code",
      "source": [
        "person = {\n",
        "    'first_name': 'John',\n",
        "    'last_name': 'Doe',\n",
        "    'age': 25,\n",
        "    'favorite_colors': ['blue', 'green'],\n",
        "    'active': True\n",
        "}\n",
        "print(person['first_name'])\n",
        "print(person['last_name'])"
      ],
      "metadata": {
        "colab": {
          "base_uri": "https://localhost:8080/"
        },
        "id": "2z9-4HrUiNrr",
        "outputId": "74ab2267-1fd2-4381-f72e-ff1eb03391c3"
      },
      "execution_count": 18,
      "outputs": [
        {
          "output_type": "stream",
          "name": "stdout",
          "text": [
            "John\n",
            "Doe\n"
          ]
        }
      ]
    },
    {
      "cell_type": "markdown",
      "source": [
        "##**Section 7. Sets -**"
      ],
      "metadata": {
        "id": "YTAfWFVBiOYg"
      }
    },
    {
      "cell_type": "code",
      "source": [],
      "metadata": {
        "id": "5C3_m3iriSlw"
      },
      "execution_count": 18,
      "outputs": []
    },
    {
      "cell_type": "markdown",
      "source": [
        "##**Section 8. Exception handling -**"
      ],
      "metadata": {
        "id": "WXaTsaZUiSt-"
      }
    },
    {
      "cell_type": "markdown",
      "source": [
        "###try...except"
      ],
      "metadata": {
        "id": "LrX5rHhTmm3D"
      }
    },
    {
      "cell_type": "code",
      "source": [
        "# get input net sales\n",
        "print('Enter the net sales for')\n",
        "\n",
        "previous = float(input('- Prior period:'))\n",
        "current = float(input('- Current period:'))\n",
        "\n",
        "# calculate the change in percentage\n",
        "change = (current - previous) * 100 / previous\n",
        "\n",
        "# show the result\n",
        "if change > 0:\n",
        "    result = f'Sales increase {abs(change)}%'\n",
        "else:\n",
        "    result = f'Sales decrease {abs(change)}%'\n",
        "\n",
        "print(result)"
      ],
      "metadata": {
        "id": "i0KOVC1uiVt7",
        "colab": {
          "base_uri": "https://localhost:8080/"
        },
        "outputId": "c043d8d8-716b-4aca-c734-10da032539ae"
      },
      "execution_count": 19,
      "outputs": [
        {
          "output_type": "stream",
          "name": "stdout",
          "text": [
            "Enter the net sales for\n",
            "- Prior period:2\n",
            "- Current period:5\n",
            "Sales increase 150.0%\n"
          ]
        }
      ]
    },
    {
      "cell_type": "markdown",
      "source": [
        "###try...except...finally"
      ],
      "metadata": {
        "id": "9a0yk-02mo9x"
      }
    },
    {
      "cell_type": "code",
      "source": [
        "a = 10\n",
        "b = 2\n",
        "\n",
        "try:\n",
        "    c = a / b\n",
        "    print(c)\n",
        "except ZeroDivisionError as error:\n",
        "    print(error)\n",
        "finally:\n",
        "    print('Finishing up.')"
      ],
      "metadata": {
        "colab": {
          "base_uri": "https://localhost:8080/"
        },
        "id": "1s5ypdYmmpF2",
        "outputId": "0949f3f3-ca5a-4a74-d2dd-6a6f45dd9854"
      },
      "execution_count": 20,
      "outputs": [
        {
          "output_type": "stream",
          "name": "stdout",
          "text": [
            "5.0\n",
            "Finishing up.\n"
          ]
        }
      ]
    },
    {
      "cell_type": "markdown",
      "source": [
        "###try...except...else"
      ],
      "metadata": {
        "id": "GOUOzjBvnRwo"
      }
    },
    {
      "cell_type": "code",
      "source": [
        "def calculate_bmi(height, weight):\n",
        "    \"\"\" calculate body mass index (BMI) \"\"\"\n",
        "    return weight / height**2\n",
        "\n",
        "\n",
        "def evaluate_bmi(bmi):\n",
        "    \"\"\" evaluate the bmi \"\"\"\n",
        "    if 18.5 <= bmi <= 24.9:\n",
        "        return 'healthy'\n",
        "\n",
        "    if bmi >= 25:\n",
        "        return 'overweight'\n",
        "\n",
        "    return 'underweight'\n",
        "\n",
        "\n",
        "def main():\n",
        "    try:\n",
        "        height = float(input('Enter your height (meters):'))\n",
        "        weight = float(input('Enter your weight (kilograms):'))\n",
        "\n",
        "    except ValueError as error:\n",
        "        print(error)\n",
        "    else:\n",
        "        bmi = round(calculate_bmi(height, weight), 1)\n",
        "        evaluation = evaluate_bmi(bmi)\n",
        "\n",
        "        print(f'Your body mass index is {bmi}')\n",
        "        print(f'This is considered {evaluation}!')\n",
        "\n",
        "main()"
      ],
      "metadata": {
        "colab": {
          "base_uri": "https://localhost:8080/"
        },
        "id": "XPhZ7wGlnFy-",
        "outputId": "6ba82ba1-ba39-4cb8-d1d5-3ffdad08ccc6"
      },
      "execution_count": 21,
      "outputs": [
        {
          "output_type": "stream",
          "name": "stdout",
          "text": [
            "Enter your height (meters):1.68\n",
            "Enter your weight (kilograms):75\n",
            "Your body mass index is 26.6\n",
            "This is considered overweight!\n"
          ]
        }
      ]
    },
    {
      "cell_type": "markdown",
      "source": [
        "##**Section 9. More on Python Loops -**"
      ],
      "metadata": {
        "id": "20vm77xdiV1M"
      }
    },
    {
      "cell_type": "code",
      "source": [],
      "metadata": {
        "id": "FOCfhyFYiZCI"
      },
      "execution_count": 21,
      "outputs": []
    },
    {
      "cell_type": "markdown",
      "source": [
        "##**Section 10. More on Python functions -**"
      ],
      "metadata": {
        "id": "eGSUoAWyiZJv"
      }
    },
    {
      "cell_type": "markdown",
      "source": [
        "###unpacking tuples"
      ],
      "metadata": {
        "id": "t4JF5yU0k02T"
      }
    },
    {
      "cell_type": "code",
      "source": [
        "x = 10\n",
        "y = 20\n",
        "\n",
        "print(f'x={x}, y={y}')\n",
        "\n",
        "tmp = x\n",
        "x = y\n",
        "y = tmp\n",
        "\n",
        "print(f'x={x}, y={y}')"
      ],
      "metadata": {
        "id": "pftCmpMYk0BR",
        "colab": {
          "base_uri": "https://localhost:8080/"
        },
        "outputId": "c0c3c809-762a-4b03-8c34-5ade140baf33"
      },
      "execution_count": 22,
      "outputs": [
        {
          "output_type": "stream",
          "name": "stdout",
          "text": [
            "x=10, y=20\n",
            "x=20, y=10\n"
          ]
        }
      ]
    },
    {
      "cell_type": "markdown",
      "source": [
        "###*args"
      ],
      "metadata": {
        "id": "PnQ5hmMulCU-"
      }
    },
    {
      "cell_type": "code",
      "source": [
        "def add(*args):\n",
        "    print(args)\n",
        "\n",
        "\n",
        "add(1,2,3)"
      ],
      "metadata": {
        "id": "zLpgTgKvicjA",
        "colab": {
          "base_uri": "https://localhost:8080/"
        },
        "outputId": "586ce97a-1315-4ef3-af59-99dc12c544c2"
      },
      "execution_count": 23,
      "outputs": [
        {
          "output_type": "stream",
          "name": "stdout",
          "text": [
            "(1, 2, 3)\n"
          ]
        }
      ]
    },
    {
      "cell_type": "markdown",
      "source": [
        "###**kwargs"
      ],
      "metadata": {
        "id": "umPhjWMulEY2"
      }
    },
    {
      "cell_type": "code",
      "source": [
        "def connect(**kwargs):\n",
        "    print(type(kwargs))\n",
        "    print(kwargs)"
      ],
      "metadata": {
        "id": "wNGQE1_hlEl9"
      },
      "execution_count": 24,
      "outputs": []
    },
    {
      "cell_type": "markdown",
      "source": [
        "###partial functions"
      ],
      "metadata": {
        "id": "t7l94U8KlSxi"
      }
    },
    {
      "cell_type": "code",
      "source": [
        "from functools import partial\n",
        "\n",
        "def multiply(a, b):\n",
        "    return a*b\n",
        "\n",
        "\n",
        "double = partial(multiply, b=2)\n",
        "\n",
        "result = double(10)\n",
        "print(result)"
      ],
      "metadata": {
        "colab": {
          "base_uri": "https://localhost:8080/"
        },
        "id": "wiwxoJQLlS5H",
        "outputId": "44525fd6-a15a-4294-b27d-ecee7c85dc5e"
      },
      "execution_count": 25,
      "outputs": [
        {
          "output_type": "stream",
          "name": "stdout",
          "text": [
            "20\n"
          ]
        }
      ]
    },
    {
      "cell_type": "markdown",
      "source": [
        "###type hints"
      ],
      "metadata": {
        "id": "pclpubCFlXRX"
      }
    },
    {
      "cell_type": "code",
      "source": [
        "def say_hi(name: str) -> str:\n",
        "    return f'Hi {name}'\n",
        "\n",
        "\n",
        "greeting = say_hi(123)\n",
        "print(greeting)"
      ],
      "metadata": {
        "colab": {
          "base_uri": "https://localhost:8080/"
        },
        "id": "vULpT1X1lXb9",
        "outputId": "8f6d09e9-8c5a-445e-9bfe-d0dd9491d993"
      },
      "execution_count": 26,
      "outputs": [
        {
          "output_type": "stream",
          "name": "stdout",
          "text": [
            "Hi 123\n"
          ]
        }
      ]
    },
    {
      "cell_type": "markdown",
      "source": [
        "###for...else"
      ],
      "metadata": {
        "id": "tuOIhQa7lqXY"
      }
    },
    {
      "cell_type": "code",
      "source": [
        "people = [{'name': 'John', 'age': 25},\n",
        "        {'name': 'Jane', 'age': 22},\n",
        "        {'name': 'Peter', 'age': 30},\n",
        "        {'name': 'Jenifer', 'age': 28}]\n",
        "\n",
        "name = input('Enter a name:')\n",
        "\n",
        "for person in people:\n",
        "    if person['name'] == name:\n",
        "        print(person)\n",
        "        break\n",
        "else:\n",
        "    print(f'{name} not found!')"
      ],
      "metadata": {
        "id": "1_zlKJs_lqjA",
        "colab": {
          "base_uri": "https://localhost:8080/"
        },
        "outputId": "9b215237-2b1f-4390-c30c-055b68396f36"
      },
      "execution_count": 27,
      "outputs": [
        {
          "output_type": "stream",
          "name": "stdout",
          "text": [
            "Enter a name:Mycah\n",
            "Mycah not found!\n"
          ]
        }
      ]
    },
    {
      "cell_type": "markdown",
      "source": [
        "###while..else"
      ],
      "metadata": {
        "id": "go-z-Q3nl2YX"
      }
    },
    {
      "cell_type": "code",
      "source": [
        "basket = [\n",
        "     {'fruit': 'apple', 'qty': 20},\n",
        "    {'fruit': 'banana', 'qty': 30},\n",
        "    {'fruit': 'orange', 'qty': 10}\n",
        "]\n",
        "\n",
        "fruit = input('Enter a fruit:')\n",
        "\n",
        "index = 0\n",
        "\n",
        "while index < len(basket):\n",
        "    item = basket[index]\n",
        "    # check the fruit name\n",
        "    if item['fruit'] == fruit:\n",
        "        print(f\"The basket has {item['qty']} {item['fruit']}(s)\")\n",
        "        found_it = True\n",
        "        break\n",
        "\n",
        "    index += 1\n",
        "else:\n",
        "    qty = int(input(f'Enter the qty for {fruit}:'))\n",
        "    basket.append({'fruit': fruit, 'qty': qty})\n",
        "    print(basket)"
      ],
      "metadata": {
        "colab": {
          "base_uri": "https://localhost:8080/"
        },
        "id": "kz8JyWzWl5px",
        "outputId": "523b00b3-3ffb-44dc-ae85-8517f1b0086b"
      },
      "execution_count": 28,
      "outputs": [
        {
          "output_type": "stream",
          "name": "stdout",
          "text": [
            "Enter a fruit:banana\n",
            "The basket has 30 banana(s)\n"
          ]
        }
      ]
    },
    {
      "cell_type": "markdown",
      "source": [
        "###do..while"
      ],
      "metadata": {
        "id": "YSiXNhE9mA-q"
      }
    },
    {
      "cell_type": "code",
      "source": [
        "from random import randint\n",
        "\n",
        "# determine the range\n",
        "MIN = 0\n",
        "MAX = 10\n",
        "\n",
        "# generate a secret number\n",
        "secret_number = randint(MIN, MAX)\n",
        "\n",
        "# initialize the attempt\n",
        "attempt = 0\n",
        "\n",
        "# The first attempt\n",
        "input_number = int(input(f'Enter a number between {MIN} and {MAX}:'))\n",
        "attempt += 1\n",
        "\n",
        "if input_number > secret_number:\n",
        "    print('It should be smaller.')\n",
        "elif input_number < secret_number:\n",
        "    print('It should be bigger.')\n",
        "else:\n",
        "    print(f'Bingo! {attempt} attempt(s)')\n",
        "\n",
        "# From the second attempt\n",
        "while input_number != secret_number:\n",
        "\n",
        "    input_number = int(input(f'Enter a number between {MIN} and {MAX}:'))\n",
        "    attempt += 1\n",
        "\n",
        "    if input_number > secret_number:\n",
        "        print('It should be smaller.')\n",
        "    elif input_number < secret_number:\n",
        "        print('It should be bigger.')\n",
        "    else:\n",
        "        print(f'Bingo! {attempt} attempt(s)')\n"
      ],
      "metadata": {
        "colab": {
          "base_uri": "https://localhost:8080/"
        },
        "id": "lLPZr18WmBHh",
        "outputId": "40a968c3-cca9-42eb-b1ca-0f44d1dda8b1"
      },
      "execution_count": 29,
      "outputs": [
        {
          "output_type": "stream",
          "name": "stdout",
          "text": [
            "Enter a number between 0 and 10:6\n",
            "It should be bigger.\n",
            "Enter a number between 0 and 10:1\n",
            "It should be bigger.\n",
            "Enter a number between 0 and 10:89\n",
            "It should be smaller.\n",
            "Enter a number between 0 and 10:0\n",
            "It should be bigger.\n",
            "Enter a number between 0 and 10:8\n",
            "It should be bigger.\n",
            "Enter a number between 0 and 10:10\n",
            "Bingo! 6 attempt(s)\n"
          ]
        }
      ]
    }
  ]
}
