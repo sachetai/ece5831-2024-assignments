{
  "nbformat": 4,
  "nbformat_minor": 0,
  "metadata": {
    "colab": {
      "provenance": []
    },
    "kernelspec": {
      "name": "python3",
      "display_name": "Python 3"
    },
    "language_info": {
      "name": "python"
    }
  },
  "cells": [
    {
      "cell_type": "markdown",
      "source": [
        "##**Step 1: Generate Handwritten Digit Images**\n",
        "\n",
        "To start, we generated five grayscale images for each digit (0–9), with each image sized 28x28 pixels. Each file is named in the format `n_m.png`, where `n` is the digit and `m` is an index from 0 to 4.\n",
        "\n",
        "**Example filenames**:\n",
        "- `0_0.png`, `0_1.png`, ..., `0_4.png` for the digit 0.\n",
        "- `5_0.png`, `5_1.png`, ..., `5_4.png` for the digit 5.\n",
        "\n",
        "Each image is stored in the `handwritten_digits` directory.\n",
        "\n",
        "### Code to Generate Digit Images -\n"
      ],
      "metadata": {
        "id": "bi2BUiUHIrJ7"
      }
    },
    {
      "cell_type": "code",
      "execution_count": null,
      "metadata": {
        "id": "__KEdo52H5Gz"
      },
      "outputs": [],
      "source": [
        "from PIL import Image, ImageDraw\n",
        "import numpy as np\n",
        "import os\n",
        "\n",
        "# Ensure output directory exists\n",
        "output_dir = 'handwritten_digits'\n",
        "os.makedirs(output_dir, exist_ok=True)\n",
        "\n",
        "# Define function to create images\n",
        "def create_digit_image(digit, variant, size=(28, 28)):\n",
        "    image = Image.new('L', size, color=255)  # 'L' mode for grayscale\n",
        "    draw = ImageDraw.Draw(image)\n",
        "    text = str(digit)\n",
        "    draw.text((7 + np.random.randint(-2, 3), 4 + np.random.randint(-2, 3)),\n",
        "              text, fill=np.random.randint(0, 100))  # varying shades of gray\n",
        "    filename = f\"{output_dir}/{digit}_{variant}.png\"\n",
        "    image.save(filename)\n",
        "    print(f\"Saved {filename}\")\n",
        "\n",
        "# Generate 5 images per digit (0-9)\n",
        "for digit in range(10):\n",
        "    for variant in range(5):\n",
        "        create_digit_image(digit, variant)"
      ]
    },
    {
      "cell_type": "markdown",
      "source": [
        "##**Step 2: Testing with module5-3.py**\n",
        "The script module5-3.py takes two input arguments:\n",
        "\n",
        "The image filename\n",
        "The actual digit of the image.\n",
        "\n",
        "The script:\n",
        "\n",
        "1. Loads the image.\n",
        "2. Displays it.\n",
        "3. Predicts the digit (for now, a placeholder function is used to simulate the prediction).\n",
        "4. Displays a success message if the prediction is correct, or a failure message if it is incorrect.\n"
      ],
      "metadata": {
        "id": "CYEbMkGqJcKG"
      }
    },
    {
      "cell_type": "code",
      "source": [
        "import sys\n",
        "import matplotlib.pyplot as plt\n",
        "from PIL import Image\n",
        "\n",
        "def load_image(filename):\n",
        "    image = Image.open(filename).convert(\"L\")\n",
        "    return image\n",
        "\n",
        "def predict_digit(image):\n",
        "    return int(input(\"Enter predicted digit (for testing): \"))\n",
        "\n",
        "def main():\n",
        "    if len(sys.argv) != 3:\n",
        "        print(\"Usage: python module5-3.py <image_filename> <digit>\")\n",
        "        sys.exit(1)\n",
        "\n",
        "    image_filename = sys.argv[1]\n",
        "    actual_digit = int(sys.argv[2])\n",
        "\n",
        "    image = load_image(image_filename)\n",
        "    plt.imshow(image, cmap=\"gray\")\n",
        "    plt.axis(\"off\")\n",
        "    plt.show()\n",
        "\n",
        "    predicted_digit = predict_digit(image)\n",
        "\n",
        "    if predicted_digit == actual_digit:\n",
        "        print(f\"Success: Image {image_filename} is for digit {actual_digit} recognized as {predicted_digit}.\")\n",
        "    else:\n",
        "        print(f\"Fail: Image {image_filename} is for digit {actual_digit} but the inference result is {predicted_digit}.\")\n",
        "\n",
        "if __name__ == \"__main__\":\n",
        "    main()\n"
      ],
      "metadata": {
        "id": "0N9rJ0qaJ_6c"
      },
      "execution_count": null,
      "outputs": []
    },
    {
      "cell_type": "markdown",
      "source": [
        "##**Step 3: Testing All Generated Images**\n",
        "\n",
        "In this step, we will test all the generated images with the module5-3.py script.\n",
        "\n",
        "Running Tests on All Images\n",
        "Use the following code to test each of the images one by one by calling the script for each image."
      ],
      "metadata": {
        "id": "B9BSq7CQKGPL"
      }
    },
    {
      "cell_type": "code",
      "source": [
        "import os\n",
        "\n",
        "# Directory containing the images\n",
        "image_dir = \"handwritten_digits\"\n",
        "\n",
        "# Iterate through each digit and variant\n",
        "for digit in range(10):\n",
        "    for variant in range(5):\n",
        "        image_filename = f\"{image_dir}/{digit}_{variant}.png\"\n",
        "        # Run the module5-3.py script\n",
        "        !python module5-3.py {image_filename} {digit}"
      ],
      "metadata": {
        "id": "GVdr8yqhKGX3"
      },
      "execution_count": null,
      "outputs": []
    },
    {
      "cell_type": "markdown",
      "source": [
        "##**Summary**\n",
        "\n",
        "In this notebook, we:\n",
        "\n",
        "Generated digit images in grayscale.\n",
        "Implemented and demonstrated module5-3.py.\n",
        "Tested the script on all generated images, with success and failure messages displayed accordingly.\n"
      ],
      "metadata": {
        "id": "FmW4QrikKwYk"
      }
    }
  ]
}