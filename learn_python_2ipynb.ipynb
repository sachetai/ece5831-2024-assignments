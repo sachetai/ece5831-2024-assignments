{
  "nbformat": 4,
  "nbformat_minor": 0,
  "metadata": {
    "colab": {
      "provenance": []
    },
    "kernelspec": {
      "name": "python3",
      "display_name": "Python 3"
    },
    "language_info": {
      "name": "python"
    }
  },
  "cells": [
    {
      "cell_type": "markdown",
      "source": [
        "##**Numpy -**"
      ],
      "metadata": {
        "id": "CGIMSR7CczkW"
      }
    },
    {
      "cell_type": "code",
      "execution_count": 4,
      "metadata": {
        "colab": {
          "base_uri": "https://localhost:8080/"
        },
        "id": "QO0g61E0RckW",
        "outputId": "c6b61f8c-5eb1-4aef-f5f1-fff1ff3e6400"
      },
      "outputs": [
        {
          "output_type": "stream",
          "name": "stdout",
          "text": [
            "<class 'numpy.ndarray'>\n"
          ]
        }
      ],
      "source": [
        "height = [1.87,  1.87, 1.82, 1.91, 1.90, 1.85]\n",
        "weight = [81.65, 97.52, 95.25, 92.98, 86.18, 88.45]\n",
        "\n",
        "# Import the numpy package as np\n",
        "import numpy as np\n",
        "\n",
        "# Create 2 numpy arrays from height and weight\n",
        "np_height = np.array(height)\n",
        "np_weight = np.array(weight)\n",
        "\n",
        "print(type(np_height))"
      ]
    },
    {
      "cell_type": "code",
      "source": [
        "bmi = np_weight / np_height ** 2\n",
        "\n",
        "# Print the result\n",
        "print(bmi)"
      ],
      "metadata": {
        "colab": {
          "base_uri": "https://localhost:8080/"
        },
        "id": "sAN5-0mdWMr2",
        "outputId": "f454ab91-718b-46b1-b4fd-bb180bb5c078"
      },
      "execution_count": 5,
      "outputs": [
        {
          "output_type": "stream",
          "name": "stdout",
          "text": [
            "[23.34925219 27.88755755 28.75558507 25.48723993 23.87257618 25.84368152]\n"
          ]
        }
      ]
    },
    {
      "cell_type": "code",
      "source": [
        "weight_kg = [81.65, 97.52, 95.25, 92.98, 86.18, 88.45]\n",
        "\n",
        "# Create a numpy array np_weight_kg from weight_kg\n",
        "np_weight_kg = np.array(weight_kg)\n",
        "\n",
        "# Create np_weight_lbs from np_weight_kg\n",
        "np_weight_lbs = np_weight_kg * 2.2\n",
        "\n",
        "# Print out np_weight_lbs\n",
        "print(np_weight_lbs)"
      ],
      "metadata": {
        "colab": {
          "base_uri": "https://localhost:8080/"
        },
        "id": "Sr-62cKaWMu5",
        "outputId": "4460af15-7705-4434-fba2-8821867f8281"
      },
      "execution_count": 6,
      "outputs": [
        {
          "output_type": "stream",
          "name": "stdout",
          "text": [
            "[179.63  214.544 209.55  204.556 189.596 194.59 ]\n"
          ]
        }
      ]
    },
    {
      "cell_type": "markdown",
      "source": [
        "##**Pandas -**"
      ],
      "metadata": {
        "id": "cszee8sMcaa8"
      }
    },
    {
      "cell_type": "code",
      "source": [
        "dict = {\"country\": [\"Brazil\", \"Russia\", \"India\", \"China\", \"South Africa\"],\n",
        "       \"capital\": [\"Brasilia\", \"Moscow\", \"New Dehli\", \"Beijing\", \"Pretoria\"],\n",
        "       \"area\": [8.516, 17.10, 3.286, 9.597, 1.221],\n",
        "       \"population\": [200.4, 143.5, 1252, 1357, 52.98] }\n",
        "\n",
        "import pandas as pd\n",
        "brics = pd.DataFrame(dict)\n",
        "print(brics)"
      ],
      "metadata": {
        "colab": {
          "base_uri": "https://localhost:8080/"
        },
        "id": "rM-DvuRcWMxD",
        "outputId": "18df5422-ac86-4530-bf77-55e8bf81f238"
      },
      "execution_count": 7,
      "outputs": [
        {
          "output_type": "stream",
          "name": "stdout",
          "text": [
            "        country    capital    area  population\n",
            "0        Brazil   Brasilia   8.516      200.40\n",
            "1        Russia     Moscow  17.100      143.50\n",
            "2         India  New Dehli   3.286     1252.00\n",
            "3         China    Beijing   9.597     1357.00\n",
            "4  South Africa   Pretoria   1.221       52.98\n"
          ]
        }
      ]
    },
    {
      "cell_type": "code",
      "source": [
        "brics.index = [\"BR\", \"RU\", \"IN\", \"CH\", \"SA\"]\n",
        "print(brics)"
      ],
      "metadata": {
        "colab": {
          "base_uri": "https://localhost:8080/"
        },
        "id": "iZ-2kpkHcfEx",
        "outputId": "f524b44f-ad32-4a22-adc1-296ac30b9d9f"
      },
      "execution_count": 8,
      "outputs": [
        {
          "output_type": "stream",
          "name": "stdout",
          "text": [
            "         country    capital    area  population\n",
            "BR        Brazil   Brasilia   8.516      200.40\n",
            "RU        Russia     Moscow  17.100      143.50\n",
            "IN         India  New Dehli   3.286     1252.00\n",
            "CH         China    Beijing   9.597     1357.00\n",
            "SA  South Africa   Pretoria   1.221       52.98\n"
          ]
        }
      ]
    },
    {
      "cell_type": "code",
      "source": [
        "# Import pandas and cars.csv\n",
        "import pandas as pd\n",
        "cars = pd.read_csv('cars.csv', index_col = 0)\n",
        "\n",
        "# Print out country column as Pandas Series\n",
        "print(cars['cars_per_cap'])\n",
        "\n",
        "# Print out country column as Pandas DataFrame\n",
        "print(cars[['cars_per_cap']])\n",
        "\n",
        "# Print out DataFrame with country and drives_right columns\n",
        "print(cars[['cars_per_cap', 'country']])"
      ],
      "metadata": {
        "colab": {
          "base_uri": "https://localhost:8080/"
        },
        "id": "XMepg6JjcfHh",
        "outputId": "49ea024e-feb2-47d5-c6ad-7d2235a803fa"
      },
      "execution_count": 9,
      "outputs": [
        {
          "output_type": "stream",
          "name": "stdout",
          "text": [
            "NaN    809\n",
            "NaN    731\n",
            "NaN    588\n",
            "NaN     18\n",
            "NaN    200\n",
            "NaN     70\n",
            "NaN     45\n",
            "Name: cars_per_cap, dtype: int64\n",
            "     cars_per_cap\n",
            "NaN           809\n",
            "NaN           731\n",
            "NaN           588\n",
            "NaN            18\n",
            "NaN           200\n",
            "NaN            70\n",
            "NaN            45\n",
            "     cars_per_cap        country\n",
            "NaN           809  United States\n",
            "NaN           731      Australia\n",
            "NaN           588          Japan\n",
            "NaN            18          India\n",
            "NaN           200         Russia\n",
            "NaN            70        Morocco\n",
            "NaN            45          Egypt\n"
          ]
        }
      ]
    },
    {
      "cell_type": "code",
      "source": [
        "# Import cars data\n",
        "import pandas as pd\n",
        "cars = pd.read_csv('cars.csv', index_col = 0)\n",
        "\n",
        "# Print out first 4 observations\n",
        "print(cars.head(4)) # Use head() to get the first 4 rows\n",
        "print()\n",
        "# Print out fifth and sixth observation\n",
        "print(cars.iloc[4:6])"
      ],
      "metadata": {
        "colab": {
          "base_uri": "https://localhost:8080/"
        },
        "id": "9XBxxO3ecfKc",
        "outputId": "c41d60d1-6d73-4e22-faae-94a01ff577ad"
      },
      "execution_count": 10,
      "outputs": [
        {
          "output_type": "stream",
          "name": "stdout",
          "text": [
            "    Unnamed: 0  cars_per_cap        country  drives_right\n",
            "NaN         US           809  United States          True\n",
            "NaN        AUS           731      Australia         False\n",
            "NaN        JAP           588          Japan         False\n",
            "NaN         IN            18          India         False\n",
            "\n",
            "    Unnamed: 0  cars_per_cap  country  drives_right\n",
            "NaN         RU           200   Russia          True\n",
            "NaN        MOR            70  Morocco          True\n"
          ]
        }
      ]
    },
    {
      "cell_type": "code",
      "source": [
        "import pandas as pd\n",
        "cars = pd.read_csv('cars.csv', index_col = 0, encoding = 'utf-8')\n",
        "\n",
        "# Print out observation for Japan\n",
        "print(cars.iloc[2])"
      ],
      "metadata": {
        "colab": {
          "base_uri": "https://localhost:8080/"
        },
        "id": "C_GSec4LcfNF",
        "outputId": "55e41ed9-cc6b-455e-e2e7-0d9f869f72f7"
      },
      "execution_count": 11,
      "outputs": [
        {
          "output_type": "stream",
          "name": "stdout",
          "text": [
            "Unnamed: 0        JAP\n",
            "cars_per_cap      588\n",
            "country         Japan\n",
            "drives_right    False\n",
            "Name: nan, dtype: object\n"
          ]
        }
      ]
    },
    {
      "cell_type": "code",
      "source": [],
      "metadata": {
        "id": "RdcBTjGNcfPW"
      },
      "execution_count": 11,
      "outputs": []
    }
  ]
}